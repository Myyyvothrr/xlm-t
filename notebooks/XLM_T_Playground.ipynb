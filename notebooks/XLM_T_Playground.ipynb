{
 "nbformat": 4,
 "nbformat_minor": 0,
 "metadata": {
  "kernelspec": {
   "display_name": "Python 3",
   "language": "python",
   "name": "python3"
  },
  "language_info": {
   "codemirror_mode": {
    "name": "ipython",
    "version": 3
   },
   "file_extension": ".py",
   "mimetype": "text/x-python",
   "name": "python",
   "nbconvert_exporter": "python",
   "pygments_lexer": "ipython3",
   "version": "3.6.9"
  },
  "colab": {
   "name": "XLM-T - Playground",
   "provenance": [],
   "collapsed_sections": [],
   "toc_visible": true
  },
  "accelerator": "GPU",
  "widgets": {
   "application/vnd.jupyter.widget-state+json": {
    "ddcb6a7cd9234afb8a275412e395ccb6": {
     "model_module": "@jupyter-widgets/controls",
     "model_name": "HBoxModel",
     "state": {
      "_view_name": "HBoxView",
      "_dom_classes": [],
      "_model_name": "HBoxModel",
      "_view_module": "@jupyter-widgets/controls",
      "_model_module_version": "1.5.0",
      "_view_count": null,
      "_view_module_version": "1.5.0",
      "box_style": "",
      "layout": "IPY_MODEL_5db71a8863654e969944191a00f1d551",
      "_model_module": "@jupyter-widgets/controls",
      "children": [
       "IPY_MODEL_d13d24c0f8cb40d5bf612d3e49107db1",
       "IPY_MODEL_a61eb34fa0e94bfeab1986b1375d943c"
      ]
     }
    },
    "5db71a8863654e969944191a00f1d551": {
     "model_module": "@jupyter-widgets/base",
     "model_name": "LayoutModel",
     "state": {
      "_view_name": "LayoutView",
      "grid_template_rows": null,
      "right": null,
      "justify_content": null,
      "_view_module": "@jupyter-widgets/base",
      "overflow": null,
      "_model_module_version": "1.2.0",
      "_view_count": null,
      "flex_flow": null,
      "width": null,
      "min_width": null,
      "border": null,
      "align_items": null,
      "bottom": null,
      "_model_module": "@jupyter-widgets/base",
      "top": null,
      "grid_column": null,
      "overflow_y": null,
      "overflow_x": null,
      "grid_auto_flow": null,
      "grid_area": null,
      "grid_template_columns": null,
      "flex": null,
      "_model_name": "LayoutModel",
      "justify_items": null,
      "grid_row": null,
      "max_height": null,
      "align_content": null,
      "visibility": null,
      "align_self": null,
      "height": null,
      "min_height": null,
      "padding": null,
      "grid_auto_rows": null,
      "grid_gap": null,
      "max_width": null,
      "order": null,
      "_view_module_version": "1.2.0",
      "grid_template_areas": null,
      "object_position": null,
      "object_fit": null,
      "grid_auto_columns": null,
      "margin": null,
      "display": null,
      "left": null
     }
    },
    "d13d24c0f8cb40d5bf612d3e49107db1": {
     "model_module": "@jupyter-widgets/controls",
     "model_name": "FloatProgressModel",
     "state": {
      "_view_name": "ProgressView",
      "style": "IPY_MODEL_564f8e79d44d4c898810867998ae1472",
      "_dom_classes": [],
      "description": "Downloading: 100%",
      "_model_name": "FloatProgressModel",
      "bar_style": "success",
      "max": 652,
      "_view_module": "@jupyter-widgets/controls",
      "_model_module_version": "1.5.0",
      "value": 652,
      "_view_count": null,
      "_view_module_version": "1.5.0",
      "orientation": "horizontal",
      "min": 0,
      "description_tooltip": null,
      "_model_module": "@jupyter-widgets/controls",
      "layout": "IPY_MODEL_9172470187554d8db894631412917cfb"
     }
    },
    "a61eb34fa0e94bfeab1986b1375d943c": {
     "model_module": "@jupyter-widgets/controls",
     "model_name": "HTMLModel",
     "state": {
      "_view_name": "HTMLView",
      "style": "IPY_MODEL_5ea1a5bfa42a46a99b9c16aead52fabc",
      "_dom_classes": [],
      "description": "",
      "_model_name": "HTMLModel",
      "placeholder": "​",
      "_view_module": "@jupyter-widgets/controls",
      "_model_module_version": "1.5.0",
      "value": " 652/652 [00:00&lt;00:00, 5.86kB/s]",
      "_view_count": null,
      "_view_module_version": "1.5.0",
      "description_tooltip": null,
      "_model_module": "@jupyter-widgets/controls",
      "layout": "IPY_MODEL_93a54ad38e684d658df8704a35e10f4f"
     }
    },
    "564f8e79d44d4c898810867998ae1472": {
     "model_module": "@jupyter-widgets/controls",
     "model_name": "ProgressStyleModel",
     "state": {
      "_view_name": "StyleView",
      "_model_name": "ProgressStyleModel",
      "description_width": "initial",
      "_view_module": "@jupyter-widgets/base",
      "_model_module_version": "1.5.0",
      "_view_count": null,
      "_view_module_version": "1.2.0",
      "bar_color": null,
      "_model_module": "@jupyter-widgets/controls"
     }
    },
    "9172470187554d8db894631412917cfb": {
     "model_module": "@jupyter-widgets/base",
     "model_name": "LayoutModel",
     "state": {
      "_view_name": "LayoutView",
      "grid_template_rows": null,
      "right": null,
      "justify_content": null,
      "_view_module": "@jupyter-widgets/base",
      "overflow": null,
      "_model_module_version": "1.2.0",
      "_view_count": null,
      "flex_flow": null,
      "width": null,
      "min_width": null,
      "border": null,
      "align_items": null,
      "bottom": null,
      "_model_module": "@jupyter-widgets/base",
      "top": null,
      "grid_column": null,
      "overflow_y": null,
      "overflow_x": null,
      "grid_auto_flow": null,
      "grid_area": null,
      "grid_template_columns": null,
      "flex": null,
      "_model_name": "LayoutModel",
      "justify_items": null,
      "grid_row": null,
      "max_height": null,
      "align_content": null,
      "visibility": null,
      "align_self": null,
      "height": null,
      "min_height": null,
      "padding": null,
      "grid_auto_rows": null,
      "grid_gap": null,
      "max_width": null,
      "order": null,
      "_view_module_version": "1.2.0",
      "grid_template_areas": null,
      "object_position": null,
      "object_fit": null,
      "grid_auto_columns": null,
      "margin": null,
      "display": null,
      "left": null
     }
    },
    "5ea1a5bfa42a46a99b9c16aead52fabc": {
     "model_module": "@jupyter-widgets/controls",
     "model_name": "DescriptionStyleModel",
     "state": {
      "_view_name": "StyleView",
      "_model_name": "DescriptionStyleModel",
      "description_width": "",
      "_view_module": "@jupyter-widgets/base",
      "_model_module_version": "1.5.0",
      "_view_count": null,
      "_view_module_version": "1.2.0",
      "_model_module": "@jupyter-widgets/controls"
     }
    },
    "93a54ad38e684d658df8704a35e10f4f": {
     "model_module": "@jupyter-widgets/base",
     "model_name": "LayoutModel",
     "state": {
      "_view_name": "LayoutView",
      "grid_template_rows": null,
      "right": null,
      "justify_content": null,
      "_view_module": "@jupyter-widgets/base",
      "overflow": null,
      "_model_module_version": "1.2.0",
      "_view_count": null,
      "flex_flow": null,
      "width": null,
      "min_width": null,
      "border": null,
      "align_items": null,
      "bottom": null,
      "_model_module": "@jupyter-widgets/base",
      "top": null,
      "grid_column": null,
      "overflow_y": null,
      "overflow_x": null,
      "grid_auto_flow": null,
      "grid_area": null,
      "grid_template_columns": null,
      "flex": null,
      "_model_name": "LayoutModel",
      "justify_items": null,
      "grid_row": null,
      "max_height": null,
      "align_content": null,
      "visibility": null,
      "align_self": null,
      "height": null,
      "min_height": null,
      "padding": null,
      "grid_auto_rows": null,
      "grid_gap": null,
      "max_width": null,
      "order": null,
      "_view_module_version": "1.2.0",
      "grid_template_areas": null,
      "object_position": null,
      "object_fit": null,
      "grid_auto_columns": null,
      "margin": null,
      "display": null,
      "left": null
     }
    },
    "34fc9e1019574bf6b9d06bf31d44c658": {
     "model_module": "@jupyter-widgets/controls",
     "model_name": "HBoxModel",
     "state": {
      "_view_name": "HBoxView",
      "_dom_classes": [],
      "_model_name": "HBoxModel",
      "_view_module": "@jupyter-widgets/controls",
      "_model_module_version": "1.5.0",
      "_view_count": null,
      "_view_module_version": "1.5.0",
      "box_style": "",
      "layout": "IPY_MODEL_61f165fca7d54a7db6db268c990008bb",
      "_model_module": "@jupyter-widgets/controls",
      "children": [
       "IPY_MODEL_0a9debd6978643739540c066e3a3a076",
       "IPY_MODEL_0b7778176d1c4d4482dc8760c57040e0"
      ]
     }
    },
    "61f165fca7d54a7db6db268c990008bb": {
     "model_module": "@jupyter-widgets/base",
     "model_name": "LayoutModel",
     "state": {
      "_view_name": "LayoutView",
      "grid_template_rows": null,
      "right": null,
      "justify_content": null,
      "_view_module": "@jupyter-widgets/base",
      "overflow": null,
      "_model_module_version": "1.2.0",
      "_view_count": null,
      "flex_flow": null,
      "width": null,
      "min_width": null,
      "border": null,
      "align_items": null,
      "bottom": null,
      "_model_module": "@jupyter-widgets/base",
      "top": null,
      "grid_column": null,
      "overflow_y": null,
      "overflow_x": null,
      "grid_auto_flow": null,
      "grid_area": null,
      "grid_template_columns": null,
      "flex": null,
      "_model_name": "LayoutModel",
      "justify_items": null,
      "grid_row": null,
      "max_height": null,
      "align_content": null,
      "visibility": null,
      "align_self": null,
      "height": null,
      "min_height": null,
      "padding": null,
      "grid_auto_rows": null,
      "grid_gap": null,
      "max_width": null,
      "order": null,
      "_view_module_version": "1.2.0",
      "grid_template_areas": null,
      "object_position": null,
      "object_fit": null,
      "grid_auto_columns": null,
      "margin": null,
      "display": null,
      "left": null
     }
    },
    "0a9debd6978643739540c066e3a3a076": {
     "model_module": "@jupyter-widgets/controls",
     "model_name": "FloatProgressModel",
     "state": {
      "_view_name": "ProgressView",
      "style": "IPY_MODEL_a519d9c762064d4891cf17a54e5c12ac",
      "_dom_classes": [],
      "description": "Downloading: 100%",
      "_model_name": "FloatProgressModel",
      "bar_style": "success",
      "max": 5069051,
      "_view_module": "@jupyter-widgets/controls",
      "_model_module_version": "1.5.0",
      "value": 5069051,
      "_view_count": null,
      "_view_module_version": "1.5.0",
      "orientation": "horizontal",
      "min": 0,
      "description_tooltip": null,
      "_model_module": "@jupyter-widgets/controls",
      "layout": "IPY_MODEL_360eabebe77f4812ac307b6fc8ef8745"
     }
    },
    "0b7778176d1c4d4482dc8760c57040e0": {
     "model_module": "@jupyter-widgets/controls",
     "model_name": "HTMLModel",
     "state": {
      "_view_name": "HTMLView",
      "style": "IPY_MODEL_d877cc9feb84431782c6b42cda37fb50",
      "_dom_classes": [],
      "description": "",
      "_model_name": "HTMLModel",
      "placeholder": "​",
      "_view_module": "@jupyter-widgets/controls",
      "_model_module_version": "1.5.0",
      "value": " 5.07M/5.07M [00:00&lt;00:00, 21.8MB/s]",
      "_view_count": null,
      "_view_module_version": "1.5.0",
      "description_tooltip": null,
      "_model_module": "@jupyter-widgets/controls",
      "layout": "IPY_MODEL_081de55c58de45529516eb299dfea258"
     }
    },
    "a519d9c762064d4891cf17a54e5c12ac": {
     "model_module": "@jupyter-widgets/controls",
     "model_name": "ProgressStyleModel",
     "state": {
      "_view_name": "StyleView",
      "_model_name": "ProgressStyleModel",
      "description_width": "initial",
      "_view_module": "@jupyter-widgets/base",
      "_model_module_version": "1.5.0",
      "_view_count": null,
      "_view_module_version": "1.2.0",
      "bar_color": null,
      "_model_module": "@jupyter-widgets/controls"
     }
    },
    "360eabebe77f4812ac307b6fc8ef8745": {
     "model_module": "@jupyter-widgets/base",
     "model_name": "LayoutModel",
     "state": {
      "_view_name": "LayoutView",
      "grid_template_rows": null,
      "right": null,
      "justify_content": null,
      "_view_module": "@jupyter-widgets/base",
      "overflow": null,
      "_model_module_version": "1.2.0",
      "_view_count": null,
      "flex_flow": null,
      "width": null,
      "min_width": null,
      "border": null,
      "align_items": null,
      "bottom": null,
      "_model_module": "@jupyter-widgets/base",
      "top": null,
      "grid_column": null,
      "overflow_y": null,
      "overflow_x": null,
      "grid_auto_flow": null,
      "grid_area": null,
      "grid_template_columns": null,
      "flex": null,
      "_model_name": "LayoutModel",
      "justify_items": null,
      "grid_row": null,
      "max_height": null,
      "align_content": null,
      "visibility": null,
      "align_self": null,
      "height": null,
      "min_height": null,
      "padding": null,
      "grid_auto_rows": null,
      "grid_gap": null,
      "max_width": null,
      "order": null,
      "_view_module_version": "1.2.0",
      "grid_template_areas": null,
      "object_position": null,
      "object_fit": null,
      "grid_auto_columns": null,
      "margin": null,
      "display": null,
      "left": null
     }
    },
    "d877cc9feb84431782c6b42cda37fb50": {
     "model_module": "@jupyter-widgets/controls",
     "model_name": "DescriptionStyleModel",
     "state": {
      "_view_name": "StyleView",
      "_model_name": "DescriptionStyleModel",
      "description_width": "",
      "_view_module": "@jupyter-widgets/base",
      "_model_module_version": "1.5.0",
      "_view_count": null,
      "_view_module_version": "1.2.0",
      "_model_module": "@jupyter-widgets/controls"
     }
    },
    "081de55c58de45529516eb299dfea258": {
     "model_module": "@jupyter-widgets/base",
     "model_name": "LayoutModel",
     "state": {
      "_view_name": "LayoutView",
      "grid_template_rows": null,
      "right": null,
      "justify_content": null,
      "_view_module": "@jupyter-widgets/base",
      "overflow": null,
      "_model_module_version": "1.2.0",
      "_view_count": null,
      "flex_flow": null,
      "width": null,
      "min_width": null,
      "border": null,
      "align_items": null,
      "bottom": null,
      "_model_module": "@jupyter-widgets/base",
      "top": null,
      "grid_column": null,
      "overflow_y": null,
      "overflow_x": null,
      "grid_auto_flow": null,
      "grid_area": null,
      "grid_template_columns": null,
      "flex": null,
      "_model_name": "LayoutModel",
      "justify_items": null,
      "grid_row": null,
      "max_height": null,
      "align_content": null,
      "visibility": null,
      "align_self": null,
      "height": null,
      "min_height": null,
      "padding": null,
      "grid_auto_rows": null,
      "grid_gap": null,
      "max_width": null,
      "order": null,
      "_view_module_version": "1.2.0",
      "grid_template_areas": null,
      "object_position": null,
      "object_fit": null,
      "grid_auto_columns": null,
      "margin": null,
      "display": null,
      "left": null
     }
    },
    "e993bd69e10a48e28f21c812ec8e03ef": {
     "model_module": "@jupyter-widgets/controls",
     "model_name": "HBoxModel",
     "state": {
      "_view_name": "HBoxView",
      "_dom_classes": [],
      "_model_name": "HBoxModel",
      "_view_module": "@jupyter-widgets/controls",
      "_model_module_version": "1.5.0",
      "_view_count": null,
      "_view_module_version": "1.5.0",
      "box_style": "",
      "layout": "IPY_MODEL_75313806fc89495f8f0cdde43ba3794d",
      "_model_module": "@jupyter-widgets/controls",
      "children": [
       "IPY_MODEL_ef5af815d27e464b8c85bd51403935a5",
       "IPY_MODEL_d5f7be689d0c47818ede36a42809f733"
      ]
     }
    },
    "75313806fc89495f8f0cdde43ba3794d": {
     "model_module": "@jupyter-widgets/base",
     "model_name": "LayoutModel",
     "state": {
      "_view_name": "LayoutView",
      "grid_template_rows": null,
      "right": null,
      "justify_content": null,
      "_view_module": "@jupyter-widgets/base",
      "overflow": null,
      "_model_module_version": "1.2.0",
      "_view_count": null,
      "flex_flow": null,
      "width": null,
      "min_width": null,
      "border": null,
      "align_items": null,
      "bottom": null,
      "_model_module": "@jupyter-widgets/base",
      "top": null,
      "grid_column": null,
      "overflow_y": null,
      "overflow_x": null,
      "grid_auto_flow": null,
      "grid_area": null,
      "grid_template_columns": null,
      "flex": null,
      "_model_name": "LayoutModel",
      "justify_items": null,
      "grid_row": null,
      "max_height": null,
      "align_content": null,
      "visibility": null,
      "align_self": null,
      "height": null,
      "min_height": null,
      "padding": null,
      "grid_auto_rows": null,
      "grid_gap": null,
      "max_width": null,
      "order": null,
      "_view_module_version": "1.2.0",
      "grid_template_areas": null,
      "object_position": null,
      "object_fit": null,
      "grid_auto_columns": null,
      "margin": null,
      "display": null,
      "left": null
     }
    },
    "ef5af815d27e464b8c85bd51403935a5": {
     "model_module": "@jupyter-widgets/controls",
     "model_name": "FloatProgressModel",
     "state": {
      "_view_name": "ProgressView",
      "style": "IPY_MODEL_363e21ce272245c498e1807eea21eff9",
      "_dom_classes": [],
      "description": "Downloading: 100%",
      "_model_name": "FloatProgressModel",
      "bar_style": "success",
      "max": 9096718,
      "_view_module": "@jupyter-widgets/controls",
      "_model_module_version": "1.5.0",
      "value": 9096718,
      "_view_count": null,
      "_view_module_version": "1.5.0",
      "orientation": "horizontal",
      "min": 0,
      "description_tooltip": null,
      "_model_module": "@jupyter-widgets/controls",
      "layout": "IPY_MODEL_fb9fc35c0d4d4ab88490fedd59008940"
     }
    },
    "d5f7be689d0c47818ede36a42809f733": {
     "model_module": "@jupyter-widgets/controls",
     "model_name": "HTMLModel",
     "state": {
      "_view_name": "HTMLView",
      "style": "IPY_MODEL_8304523181a44d93a81df1e5716fe65f",
      "_dom_classes": [],
      "description": "",
      "_model_name": "HTMLModel",
      "placeholder": "​",
      "_view_module": "@jupyter-widgets/controls",
      "_model_module_version": "1.5.0",
      "value": " 9.10M/9.10M [00:00&lt;00:00, 9.17MB/s]",
      "_view_count": null,
      "_view_module_version": "1.5.0",
      "description_tooltip": null,
      "_model_module": "@jupyter-widgets/controls",
      "layout": "IPY_MODEL_b118e074396e4bdf9c0f0cd966286e21"
     }
    },
    "363e21ce272245c498e1807eea21eff9": {
     "model_module": "@jupyter-widgets/controls",
     "model_name": "ProgressStyleModel",
     "state": {
      "_view_name": "StyleView",
      "_model_name": "ProgressStyleModel",
      "description_width": "initial",
      "_view_module": "@jupyter-widgets/base",
      "_model_module_version": "1.5.0",
      "_view_count": null,
      "_view_module_version": "1.2.0",
      "bar_color": null,
      "_model_module": "@jupyter-widgets/controls"
     }
    },
    "fb9fc35c0d4d4ab88490fedd59008940": {
     "model_module": "@jupyter-widgets/base",
     "model_name": "LayoutModel",
     "state": {
      "_view_name": "LayoutView",
      "grid_template_rows": null,
      "right": null,
      "justify_content": null,
      "_view_module": "@jupyter-widgets/base",
      "overflow": null,
      "_model_module_version": "1.2.0",
      "_view_count": null,
      "flex_flow": null,
      "width": null,
      "min_width": null,
      "border": null,
      "align_items": null,
      "bottom": null,
      "_model_module": "@jupyter-widgets/base",
      "top": null,
      "grid_column": null,
      "overflow_y": null,
      "overflow_x": null,
      "grid_auto_flow": null,
      "grid_area": null,
      "grid_template_columns": null,
      "flex": null,
      "_model_name": "LayoutModel",
      "justify_items": null,
      "grid_row": null,
      "max_height": null,
      "align_content": null,
      "visibility": null,
      "align_self": null,
      "height": null,
      "min_height": null,
      "padding": null,
      "grid_auto_rows": null,
      "grid_gap": null,
      "max_width": null,
      "order": null,
      "_view_module_version": "1.2.0",
      "grid_template_areas": null,
      "object_position": null,
      "object_fit": null,
      "grid_auto_columns": null,
      "margin": null,
      "display": null,
      "left": null
     }
    },
    "8304523181a44d93a81df1e5716fe65f": {
     "model_module": "@jupyter-widgets/controls",
     "model_name": "DescriptionStyleModel",
     "state": {
      "_view_name": "StyleView",
      "_model_name": "DescriptionStyleModel",
      "description_width": "",
      "_view_module": "@jupyter-widgets/base",
      "_model_module_version": "1.5.0",
      "_view_count": null,
      "_view_module_version": "1.2.0",
      "_model_module": "@jupyter-widgets/controls"
     }
    },
    "b118e074396e4bdf9c0f0cd966286e21": {
     "model_module": "@jupyter-widgets/base",
     "model_name": "LayoutModel",
     "state": {
      "_view_name": "LayoutView",
      "grid_template_rows": null,
      "right": null,
      "justify_content": null,
      "_view_module": "@jupyter-widgets/base",
      "overflow": null,
      "_model_module_version": "1.2.0",
      "_view_count": null,
      "flex_flow": null,
      "width": null,
      "min_width": null,
      "border": null,
      "align_items": null,
      "bottom": null,
      "_model_module": "@jupyter-widgets/base",
      "top": null,
      "grid_column": null,
      "overflow_y": null,
      "overflow_x": null,
      "grid_auto_flow": null,
      "grid_area": null,
      "grid_template_columns": null,
      "flex": null,
      "_model_name": "LayoutModel",
      "justify_items": null,
      "grid_row": null,
      "max_height": null,
      "align_content": null,
      "visibility": null,
      "align_self": null,
      "height": null,
      "min_height": null,
      "padding": null,
      "grid_auto_rows": null,
      "grid_gap": null,
      "max_width": null,
      "order": null,
      "_view_module_version": "1.2.0",
      "grid_template_areas": null,
      "object_position": null,
      "object_fit": null,
      "grid_auto_columns": null,
      "margin": null,
      "display": null,
      "left": null
     }
    },
    "c57e13a1090e48a2a8775a7bd2022747": {
     "model_module": "@jupyter-widgets/controls",
     "model_name": "HBoxModel",
     "state": {
      "_view_name": "HBoxView",
      "_dom_classes": [],
      "_model_name": "HBoxModel",
      "_view_module": "@jupyter-widgets/controls",
      "_model_module_version": "1.5.0",
      "_view_count": null,
      "_view_module_version": "1.5.0",
      "box_style": "",
      "layout": "IPY_MODEL_12ba26b96c8345c5baf95331616a68ed",
      "_model_module": "@jupyter-widgets/controls",
      "children": [
       "IPY_MODEL_4fbeab6821fd410c9e5ef253b8974664",
       "IPY_MODEL_26bceeb8a64f4c098646764c6aeae2e6"
      ]
     }
    },
    "12ba26b96c8345c5baf95331616a68ed": {
     "model_module": "@jupyter-widgets/base",
     "model_name": "LayoutModel",
     "state": {
      "_view_name": "LayoutView",
      "grid_template_rows": null,
      "right": null,
      "justify_content": null,
      "_view_module": "@jupyter-widgets/base",
      "overflow": null,
      "_model_module_version": "1.2.0",
      "_view_count": null,
      "flex_flow": null,
      "width": null,
      "min_width": null,
      "border": null,
      "align_items": null,
      "bottom": null,
      "_model_module": "@jupyter-widgets/base",
      "top": null,
      "grid_column": null,
      "overflow_y": null,
      "overflow_x": null,
      "grid_auto_flow": null,
      "grid_area": null,
      "grid_template_columns": null,
      "flex": null,
      "_model_name": "LayoutModel",
      "justify_items": null,
      "grid_row": null,
      "max_height": null,
      "align_content": null,
      "visibility": null,
      "align_self": null,
      "height": null,
      "min_height": null,
      "padding": null,
      "grid_auto_rows": null,
      "grid_gap": null,
      "max_width": null,
      "order": null,
      "_view_module_version": "1.2.0",
      "grid_template_areas": null,
      "object_position": null,
      "object_fit": null,
      "grid_auto_columns": null,
      "margin": null,
      "display": null,
      "left": null
     }
    },
    "4fbeab6821fd410c9e5ef253b8974664": {
     "model_module": "@jupyter-widgets/controls",
     "model_name": "FloatProgressModel",
     "state": {
      "_view_name": "ProgressView",
      "style": "IPY_MODEL_10d3fdcdce7c4700addac255f1781b56",
      "_dom_classes": [],
      "description": "Downloading: 100%",
      "_model_name": "FloatProgressModel",
      "bar_style": "success",
      "max": 1113236958,
      "_view_module": "@jupyter-widgets/controls",
      "_model_module_version": "1.5.0",
      "value": 1113236958,
      "_view_count": null,
      "_view_module_version": "1.5.0",
      "orientation": "horizontal",
      "min": 0,
      "description_tooltip": null,
      "_model_module": "@jupyter-widgets/controls",
      "layout": "IPY_MODEL_114be59b9cbf4de288da6b047452a164"
     }
    },
    "26bceeb8a64f4c098646764c6aeae2e6": {
     "model_module": "@jupyter-widgets/controls",
     "model_name": "HTMLModel",
     "state": {
      "_view_name": "HTMLView",
      "style": "IPY_MODEL_b25e869eaab1417a81739e1a5e33ad18",
      "_dom_classes": [],
      "description": "",
      "_model_name": "HTMLModel",
      "placeholder": "​",
      "_view_module": "@jupyter-widgets/controls",
      "_model_module_version": "1.5.0",
      "value": " 1.11G/1.11G [00:49&lt;00:00, 22.5MB/s]",
      "_view_count": null,
      "_view_module_version": "1.5.0",
      "description_tooltip": null,
      "_model_module": "@jupyter-widgets/controls",
      "layout": "IPY_MODEL_78984f2a007c4a40a0c10abfcefb4365"
     }
    },
    "10d3fdcdce7c4700addac255f1781b56": {
     "model_module": "@jupyter-widgets/controls",
     "model_name": "ProgressStyleModel",
     "state": {
      "_view_name": "StyleView",
      "_model_name": "ProgressStyleModel",
      "description_width": "initial",
      "_view_module": "@jupyter-widgets/base",
      "_model_module_version": "1.5.0",
      "_view_count": null,
      "_view_module_version": "1.2.0",
      "bar_color": null,
      "_model_module": "@jupyter-widgets/controls"
     }
    },
    "114be59b9cbf4de288da6b047452a164": {
     "model_module": "@jupyter-widgets/base",
     "model_name": "LayoutModel",
     "state": {
      "_view_name": "LayoutView",
      "grid_template_rows": null,
      "right": null,
      "justify_content": null,
      "_view_module": "@jupyter-widgets/base",
      "overflow": null,
      "_model_module_version": "1.2.0",
      "_view_count": null,
      "flex_flow": null,
      "width": null,
      "min_width": null,
      "border": null,
      "align_items": null,
      "bottom": null,
      "_model_module": "@jupyter-widgets/base",
      "top": null,
      "grid_column": null,
      "overflow_y": null,
      "overflow_x": null,
      "grid_auto_flow": null,
      "grid_area": null,
      "grid_template_columns": null,
      "flex": null,
      "_model_name": "LayoutModel",
      "justify_items": null,
      "grid_row": null,
      "max_height": null,
      "align_content": null,
      "visibility": null,
      "align_self": null,
      "height": null,
      "min_height": null,
      "padding": null,
      "grid_auto_rows": null,
      "grid_gap": null,
      "max_width": null,
      "order": null,
      "_view_module_version": "1.2.0",
      "grid_template_areas": null,
      "object_position": null,
      "object_fit": null,
      "grid_auto_columns": null,
      "margin": null,
      "display": null,
      "left": null
     }
    },
    "b25e869eaab1417a81739e1a5e33ad18": {
     "model_module": "@jupyter-widgets/controls",
     "model_name": "DescriptionStyleModel",
     "state": {
      "_view_name": "StyleView",
      "_model_name": "DescriptionStyleModel",
      "description_width": "",
      "_view_module": "@jupyter-widgets/base",
      "_model_module_version": "1.5.0",
      "_view_count": null,
      "_view_module_version": "1.2.0",
      "_model_module": "@jupyter-widgets/controls"
     }
    },
    "78984f2a007c4a40a0c10abfcefb4365": {
     "model_module": "@jupyter-widgets/base",
     "model_name": "LayoutModel",
     "state": {
      "_view_name": "LayoutView",
      "grid_template_rows": null,
      "right": null,
      "justify_content": null,
      "_view_module": "@jupyter-widgets/base",
      "overflow": null,
      "_model_module_version": "1.2.0",
      "_view_count": null,
      "flex_flow": null,
      "width": null,
      "min_width": null,
      "border": null,
      "align_items": null,
      "bottom": null,
      "_model_module": "@jupyter-widgets/base",
      "top": null,
      "grid_column": null,
      "overflow_y": null,
      "overflow_x": null,
      "grid_auto_flow": null,
      "grid_area": null,
      "grid_template_columns": null,
      "flex": null,
      "_model_name": "LayoutModel",
      "justify_items": null,
      "grid_row": null,
      "max_height": null,
      "align_content": null,
      "visibility": null,
      "align_self": null,
      "height": null,
      "min_height": null,
      "padding": null,
      "grid_auto_rows": null,
      "grid_gap": null,
      "max_width": null,
      "order": null,
      "_view_module_version": "1.2.0",
      "grid_template_areas": null,
      "object_position": null,
      "object_fit": null,
      "grid_auto_columns": null,
      "margin": null,
      "display": null,
      "left": null
     }
    },
    "7b0e6b18d9d64e51a94b3de7131383d6": {
     "model_module": "@jupyter-widgets/controls",
     "model_name": "HBoxModel",
     "state": {
      "_view_name": "HBoxView",
      "_dom_classes": [],
      "_model_name": "HBoxModel",
      "_view_module": "@jupyter-widgets/controls",
      "_model_module_version": "1.5.0",
      "_view_count": null,
      "_view_module_version": "1.5.0",
      "box_style": "",
      "layout": "IPY_MODEL_59060b53f5814c819d47d23068ed6426",
      "_model_module": "@jupyter-widgets/controls",
      "children": [
       "IPY_MODEL_e680ab6e876f408a8c021afeb705e50e",
       "IPY_MODEL_785c76120e7247a7bc8631f5cda202aa"
      ]
     }
    },
    "59060b53f5814c819d47d23068ed6426": {
     "model_module": "@jupyter-widgets/base",
     "model_name": "LayoutModel",
     "state": {
      "_view_name": "LayoutView",
      "grid_template_rows": null,
      "right": null,
      "justify_content": null,
      "_view_module": "@jupyter-widgets/base",
      "overflow": null,
      "_model_module_version": "1.2.0",
      "_view_count": null,
      "flex_flow": null,
      "width": null,
      "min_width": null,
      "border": null,
      "align_items": null,
      "bottom": null,
      "_model_module": "@jupyter-widgets/base",
      "top": null,
      "grid_column": null,
      "overflow_y": null,
      "overflow_x": null,
      "grid_auto_flow": null,
      "grid_area": null,
      "grid_template_columns": null,
      "flex": null,
      "_model_name": "LayoutModel",
      "justify_items": null,
      "grid_row": null,
      "max_height": null,
      "align_content": null,
      "visibility": null,
      "align_self": null,
      "height": null,
      "min_height": null,
      "padding": null,
      "grid_auto_rows": null,
      "grid_gap": null,
      "max_width": null,
      "order": null,
      "_view_module_version": "1.2.0",
      "grid_template_areas": null,
      "object_position": null,
      "object_fit": null,
      "grid_auto_columns": null,
      "margin": null,
      "display": null,
      "left": null
     }
    },
    "e680ab6e876f408a8c021afeb705e50e": {
     "model_module": "@jupyter-widgets/controls",
     "model_name": "FloatProgressModel",
     "state": {
      "_view_name": "ProgressView",
      "style": "IPY_MODEL_ec4fae95e05840e29f5f92db8def3f8f",
      "_dom_classes": [],
      "description": "Downloading: 100%",
      "_model_name": "FloatProgressModel",
      "bar_style": "success",
      "max": 841,
      "_view_module": "@jupyter-widgets/controls",
      "_model_module_version": "1.5.0",
      "value": 841,
      "_view_count": null,
      "_view_module_version": "1.5.0",
      "orientation": "horizontal",
      "min": 0,
      "description_tooltip": null,
      "_model_module": "@jupyter-widgets/controls",
      "layout": "IPY_MODEL_79106304236449f086e25b36f59a502c"
     }
    },
    "785c76120e7247a7bc8631f5cda202aa": {
     "model_module": "@jupyter-widgets/controls",
     "model_name": "HTMLModel",
     "state": {
      "_view_name": "HTMLView",
      "style": "IPY_MODEL_4204817e412b448fb30711530c8ddc2a",
      "_dom_classes": [],
      "description": "",
      "_model_name": "HTMLModel",
      "placeholder": "​",
      "_view_module": "@jupyter-widgets/controls",
      "_model_module_version": "1.5.0",
      "value": " 841/841 [00:23&lt;00:00, 36.4B/s]",
      "_view_count": null,
      "_view_module_version": "1.5.0",
      "description_tooltip": null,
      "_model_module": "@jupyter-widgets/controls",
      "layout": "IPY_MODEL_98693bd2549d48a7a1a1ac7870ec9576"
     }
    },
    "ec4fae95e05840e29f5f92db8def3f8f": {
     "model_module": "@jupyter-widgets/controls",
     "model_name": "ProgressStyleModel",
     "state": {
      "_view_name": "StyleView",
      "_model_name": "ProgressStyleModel",
      "description_width": "initial",
      "_view_module": "@jupyter-widgets/base",
      "_model_module_version": "1.5.0",
      "_view_count": null,
      "_view_module_version": "1.2.0",
      "bar_color": null,
      "_model_module": "@jupyter-widgets/controls"
     }
    },
    "79106304236449f086e25b36f59a502c": {
     "model_module": "@jupyter-widgets/base",
     "model_name": "LayoutModel",
     "state": {
      "_view_name": "LayoutView",
      "grid_template_rows": null,
      "right": null,
      "justify_content": null,
      "_view_module": "@jupyter-widgets/base",
      "overflow": null,
      "_model_module_version": "1.2.0",
      "_view_count": null,
      "flex_flow": null,
      "width": null,
      "min_width": null,
      "border": null,
      "align_items": null,
      "bottom": null,
      "_model_module": "@jupyter-widgets/base",
      "top": null,
      "grid_column": null,
      "overflow_y": null,
      "overflow_x": null,
      "grid_auto_flow": null,
      "grid_area": null,
      "grid_template_columns": null,
      "flex": null,
      "_model_name": "LayoutModel",
      "justify_items": null,
      "grid_row": null,
      "max_height": null,
      "align_content": null,
      "visibility": null,
      "align_self": null,
      "height": null,
      "min_height": null,
      "padding": null,
      "grid_auto_rows": null,
      "grid_gap": null,
      "max_width": null,
      "order": null,
      "_view_module_version": "1.2.0",
      "grid_template_areas": null,
      "object_position": null,
      "object_fit": null,
      "grid_auto_columns": null,
      "margin": null,
      "display": null,
      "left": null
     }
    },
    "4204817e412b448fb30711530c8ddc2a": {
     "model_module": "@jupyter-widgets/controls",
     "model_name": "DescriptionStyleModel",
     "state": {
      "_view_name": "StyleView",
      "_model_name": "DescriptionStyleModel",
      "description_width": "",
      "_view_module": "@jupyter-widgets/base",
      "_model_module_version": "1.5.0",
      "_view_count": null,
      "_view_module_version": "1.2.0",
      "_model_module": "@jupyter-widgets/controls"
     }
    },
    "98693bd2549d48a7a1a1ac7870ec9576": {
     "model_module": "@jupyter-widgets/base",
     "model_name": "LayoutModel",
     "state": {
      "_view_name": "LayoutView",
      "grid_template_rows": null,
      "right": null,
      "justify_content": null,
      "_view_module": "@jupyter-widgets/base",
      "overflow": null,
      "_model_module_version": "1.2.0",
      "_view_count": null,
      "flex_flow": null,
      "width": null,
      "min_width": null,
      "border": null,
      "align_items": null,
      "bottom": null,
      "_model_module": "@jupyter-widgets/base",
      "top": null,
      "grid_column": null,
      "overflow_y": null,
      "overflow_x": null,
      "grid_auto_flow": null,
      "grid_area": null,
      "grid_template_columns": null,
      "flex": null,
      "_model_name": "LayoutModel",
      "justify_items": null,
      "grid_row": null,
      "max_height": null,
      "align_content": null,
      "visibility": null,
      "align_self": null,
      "height": null,
      "min_height": null,
      "padding": null,
      "grid_auto_rows": null,
      "grid_gap": null,
      "max_width": null,
      "order": null,
      "_view_module_version": "1.2.0",
      "grid_template_areas": null,
      "object_position": null,
      "object_fit": null,
      "grid_auto_columns": null,
      "margin": null,
      "display": null,
      "left": null
     }
    },
    "9f79fec4a2be4b1cac766ea3943918dd": {
     "model_module": "@jupyter-widgets/controls",
     "model_name": "HBoxModel",
     "state": {
      "_view_name": "HBoxView",
      "_dom_classes": [],
      "_model_name": "HBoxModel",
      "_view_module": "@jupyter-widgets/controls",
      "_model_module_version": "1.5.0",
      "_view_count": null,
      "_view_module_version": "1.5.0",
      "box_style": "",
      "layout": "IPY_MODEL_3156df21bd4f4ad0a30b2887f95a6da7",
      "_model_module": "@jupyter-widgets/controls",
      "children": [
       "IPY_MODEL_2551eb51d1ea41d88f0c018f59c6ba78",
       "IPY_MODEL_284a659302724226863ea16d9fdd2120"
      ]
     }
    },
    "3156df21bd4f4ad0a30b2887f95a6da7": {
     "model_module": "@jupyter-widgets/base",
     "model_name": "LayoutModel",
     "state": {
      "_view_name": "LayoutView",
      "grid_template_rows": null,
      "right": null,
      "justify_content": null,
      "_view_module": "@jupyter-widgets/base",
      "overflow": null,
      "_model_module_version": "1.2.0",
      "_view_count": null,
      "flex_flow": null,
      "width": null,
      "min_width": null,
      "border": null,
      "align_items": null,
      "bottom": null,
      "_model_module": "@jupyter-widgets/base",
      "top": null,
      "grid_column": null,
      "overflow_y": null,
      "overflow_x": null,
      "grid_auto_flow": null,
      "grid_area": null,
      "grid_template_columns": null,
      "flex": null,
      "_model_name": "LayoutModel",
      "justify_items": null,
      "grid_row": null,
      "max_height": null,
      "align_content": null,
      "visibility": null,
      "align_self": null,
      "height": null,
      "min_height": null,
      "padding": null,
      "grid_auto_rows": null,
      "grid_gap": null,
      "max_width": null,
      "order": null,
      "_view_module_version": "1.2.0",
      "grid_template_areas": null,
      "object_position": null,
      "object_fit": null,
      "grid_auto_columns": null,
      "margin": null,
      "display": null,
      "left": null
     }
    },
    "2551eb51d1ea41d88f0c018f59c6ba78": {
     "model_module": "@jupyter-widgets/controls",
     "model_name": "FloatProgressModel",
     "state": {
      "_view_name": "ProgressView",
      "style": "IPY_MODEL_99b19f56f49142e888fa2a77b8fe9d73",
      "_dom_classes": [],
      "description": "Downloading: 100%",
      "_model_name": "FloatProgressModel",
      "bar_style": "success",
      "max": 1112271561,
      "_view_module": "@jupyter-widgets/controls",
      "_model_module_version": "1.5.0",
      "value": 1112271561,
      "_view_count": null,
      "_view_module_version": "1.5.0",
      "orientation": "horizontal",
      "min": 0,
      "description_tooltip": null,
      "_model_module": "@jupyter-widgets/controls",
      "layout": "IPY_MODEL_e12f7869adac4f749b4e2f8e11fecd61"
     }
    },
    "284a659302724226863ea16d9fdd2120": {
     "model_module": "@jupyter-widgets/controls",
     "model_name": "HTMLModel",
     "state": {
      "_view_name": "HTMLView",
      "style": "IPY_MODEL_279f7e291d984da9a59db2148dd2ad78",
      "_dom_classes": [],
      "description": "",
      "_model_name": "HTMLModel",
      "placeholder": "​",
      "_view_module": "@jupyter-widgets/controls",
      "_model_module_version": "1.5.0",
      "value": " 1.11G/1.11G [00:22&lt;00:00, 50.0MB/s]",
      "_view_count": null,
      "_view_module_version": "1.5.0",
      "description_tooltip": null,
      "_model_module": "@jupyter-widgets/controls",
      "layout": "IPY_MODEL_e591b3b3459e49a7af68f07ef76d1ad6"
     }
    },
    "99b19f56f49142e888fa2a77b8fe9d73": {
     "model_module": "@jupyter-widgets/controls",
     "model_name": "ProgressStyleModel",
     "state": {
      "_view_name": "StyleView",
      "_model_name": "ProgressStyleModel",
      "description_width": "initial",
      "_view_module": "@jupyter-widgets/base",
      "_model_module_version": "1.5.0",
      "_view_count": null,
      "_view_module_version": "1.2.0",
      "bar_color": null,
      "_model_module": "@jupyter-widgets/controls"
     }
    },
    "e12f7869adac4f749b4e2f8e11fecd61": {
     "model_module": "@jupyter-widgets/base",
     "model_name": "LayoutModel",
     "state": {
      "_view_name": "LayoutView",
      "grid_template_rows": null,
      "right": null,
      "justify_content": null,
      "_view_module": "@jupyter-widgets/base",
      "overflow": null,
      "_model_module_version": "1.2.0",
      "_view_count": null,
      "flex_flow": null,
      "width": null,
      "min_width": null,
      "border": null,
      "align_items": null,
      "bottom": null,
      "_model_module": "@jupyter-widgets/base",
      "top": null,
      "grid_column": null,
      "overflow_y": null,
      "overflow_x": null,
      "grid_auto_flow": null,
      "grid_area": null,
      "grid_template_columns": null,
      "flex": null,
      "_model_name": "LayoutModel",
      "justify_items": null,
      "grid_row": null,
      "max_height": null,
      "align_content": null,
      "visibility": null,
      "align_self": null,
      "height": null,
      "min_height": null,
      "padding": null,
      "grid_auto_rows": null,
      "grid_gap": null,
      "max_width": null,
      "order": null,
      "_view_module_version": "1.2.0",
      "grid_template_areas": null,
      "object_position": null,
      "object_fit": null,
      "grid_auto_columns": null,
      "margin": null,
      "display": null,
      "left": null
     }
    },
    "279f7e291d984da9a59db2148dd2ad78": {
     "model_module": "@jupyter-widgets/controls",
     "model_name": "DescriptionStyleModel",
     "state": {
      "_view_name": "StyleView",
      "_model_name": "DescriptionStyleModel",
      "description_width": "",
      "_view_module": "@jupyter-widgets/base",
      "_model_module_version": "1.5.0",
      "_view_count": null,
      "_view_module_version": "1.2.0",
      "_model_module": "@jupyter-widgets/controls"
     }
    },
    "e591b3b3459e49a7af68f07ef76d1ad6": {
     "model_module": "@jupyter-widgets/base",
     "model_name": "LayoutModel",
     "state": {
      "_view_name": "LayoutView",
      "grid_template_rows": null,
      "right": null,
      "justify_content": null,
      "_view_module": "@jupyter-widgets/base",
      "overflow": null,
      "_model_module_version": "1.2.0",
      "_view_count": null,
      "flex_flow": null,
      "width": null,
      "min_width": null,
      "border": null,
      "align_items": null,
      "bottom": null,
      "_model_module": "@jupyter-widgets/base",
      "top": null,
      "grid_column": null,
      "overflow_y": null,
      "overflow_x": null,
      "grid_auto_flow": null,
      "grid_area": null,
      "grid_template_columns": null,
      "flex": null,
      "_model_name": "LayoutModel",
      "justify_items": null,
      "grid_row": null,
      "max_height": null,
      "align_content": null,
      "visibility": null,
      "align_self": null,
      "height": null,
      "min_height": null,
      "padding": null,
      "grid_auto_rows": null,
      "grid_gap": null,
      "max_width": null,
      "order": null,
      "_view_module_version": "1.2.0",
      "grid_template_areas": null,
      "object_position": null,
      "object_fit": null,
      "grid_auto_columns": null,
      "margin": null,
      "display": null,
      "left": null
     }
    },
    "ce0b32cb271147b58796b7a5aac51d41": {
     "model_module": "@jupyter-widgets/controls",
     "model_name": "HBoxModel",
     "state": {
      "_view_name": "HBoxView",
      "_dom_classes": [],
      "_model_name": "HBoxModel",
      "_view_module": "@jupyter-widgets/controls",
      "_model_module_version": "1.5.0",
      "_view_count": null,
      "_view_module_version": "1.5.0",
      "box_style": "",
      "layout": "IPY_MODEL_a7d7271d718e49acb5405e1e5f631c86",
      "_model_module": "@jupyter-widgets/controls",
      "children": [
       "IPY_MODEL_9ff2c55cc9d54cab96bb5829b08c2509",
       "IPY_MODEL_1181791706594b79ad414063587101f5"
      ]
     }
    },
    "a7d7271d718e49acb5405e1e5f631c86": {
     "model_module": "@jupyter-widgets/base",
     "model_name": "LayoutModel",
     "state": {
      "_view_name": "LayoutView",
      "grid_template_rows": null,
      "right": null,
      "justify_content": null,
      "_view_module": "@jupyter-widgets/base",
      "overflow": null,
      "_model_module_version": "1.2.0",
      "_view_count": null,
      "flex_flow": null,
      "width": null,
      "min_width": null,
      "border": null,
      "align_items": null,
      "bottom": null,
      "_model_module": "@jupyter-widgets/base",
      "top": null,
      "grid_column": null,
      "overflow_y": null,
      "overflow_x": null,
      "grid_auto_flow": null,
      "grid_area": null,
      "grid_template_columns": null,
      "flex": null,
      "_model_name": "LayoutModel",
      "justify_items": null,
      "grid_row": null,
      "max_height": null,
      "align_content": null,
      "visibility": null,
      "align_self": null,
      "height": null,
      "min_height": null,
      "padding": null,
      "grid_auto_rows": null,
      "grid_gap": null,
      "max_width": null,
      "order": null,
      "_view_module_version": "1.2.0",
      "grid_template_areas": null,
      "object_position": null,
      "object_fit": null,
      "grid_auto_columns": null,
      "margin": null,
      "display": null,
      "left": null
     }
    },
    "9ff2c55cc9d54cab96bb5829b08c2509": {
     "model_module": "@jupyter-widgets/controls",
     "model_name": "FloatProgressModel",
     "state": {
      "_view_name": "ProgressView",
      "style": "IPY_MODEL_e3b5a4be75524133929617cb9f3f694a",
      "_dom_classes": [],
      "description": "Downloading: 100%",
      "_model_name": "FloatProgressModel",
      "bar_style": "success",
      "max": 5069051,
      "_view_module": "@jupyter-widgets/controls",
      "_model_module_version": "1.5.0",
      "value": 5069051,
      "_view_count": null,
      "_view_module_version": "1.5.0",
      "orientation": "horizontal",
      "min": 0,
      "description_tooltip": null,
      "_model_module": "@jupyter-widgets/controls",
      "layout": "IPY_MODEL_c0e7153234894e629af410d360b4d5f7"
     }
    },
    "1181791706594b79ad414063587101f5": {
     "model_module": "@jupyter-widgets/controls",
     "model_name": "HTMLModel",
     "state": {
      "_view_name": "HTMLView",
      "style": "IPY_MODEL_181af0c3d7314254b54b41eb2a0fafbe",
      "_dom_classes": [],
      "description": "",
      "_model_name": "HTMLModel",
      "placeholder": "​",
      "_view_module": "@jupyter-widgets/controls",
      "_model_module_version": "1.5.0",
      "value": " 5.07M/5.07M [00:00&lt;00:00, 11.1MB/s]",
      "_view_count": null,
      "_view_module_version": "1.5.0",
      "description_tooltip": null,
      "_model_module": "@jupyter-widgets/controls",
      "layout": "IPY_MODEL_bd192fd62cd4458aa10c28f7f3613522"
     }
    },
    "e3b5a4be75524133929617cb9f3f694a": {
     "model_module": "@jupyter-widgets/controls",
     "model_name": "ProgressStyleModel",
     "state": {
      "_view_name": "StyleView",
      "_model_name": "ProgressStyleModel",
      "description_width": "initial",
      "_view_module": "@jupyter-widgets/base",
      "_model_module_version": "1.5.0",
      "_view_count": null,
      "_view_module_version": "1.2.0",
      "bar_color": null,
      "_model_module": "@jupyter-widgets/controls"
     }
    },
    "c0e7153234894e629af410d360b4d5f7": {
     "model_module": "@jupyter-widgets/base",
     "model_name": "LayoutModel",
     "state": {
      "_view_name": "LayoutView",
      "grid_template_rows": null,
      "right": null,
      "justify_content": null,
      "_view_module": "@jupyter-widgets/base",
      "overflow": null,
      "_model_module_version": "1.2.0",
      "_view_count": null,
      "flex_flow": null,
      "width": null,
      "min_width": null,
      "border": null,
      "align_items": null,
      "bottom": null,
      "_model_module": "@jupyter-widgets/base",
      "top": null,
      "grid_column": null,
      "overflow_y": null,
      "overflow_x": null,
      "grid_auto_flow": null,
      "grid_area": null,
      "grid_template_columns": null,
      "flex": null,
      "_model_name": "LayoutModel",
      "justify_items": null,
      "grid_row": null,
      "max_height": null,
      "align_content": null,
      "visibility": null,
      "align_self": null,
      "height": null,
      "min_height": null,
      "padding": null,
      "grid_auto_rows": null,
      "grid_gap": null,
      "max_width": null,
      "order": null,
      "_view_module_version": "1.2.0",
      "grid_template_areas": null,
      "object_position": null,
      "object_fit": null,
      "grid_auto_columns": null,
      "margin": null,
      "display": null,
      "left": null
     }
    },
    "181af0c3d7314254b54b41eb2a0fafbe": {
     "model_module": "@jupyter-widgets/controls",
     "model_name": "DescriptionStyleModel",
     "state": {
      "_view_name": "StyleView",
      "_model_name": "DescriptionStyleModel",
      "description_width": "",
      "_view_module": "@jupyter-widgets/base",
      "_model_module_version": "1.5.0",
      "_view_count": null,
      "_view_module_version": "1.2.0",
      "_model_module": "@jupyter-widgets/controls"
     }
    },
    "bd192fd62cd4458aa10c28f7f3613522": {
     "model_module": "@jupyter-widgets/base",
     "model_name": "LayoutModel",
     "state": {
      "_view_name": "LayoutView",
      "grid_template_rows": null,
      "right": null,
      "justify_content": null,
      "_view_module": "@jupyter-widgets/base",
      "overflow": null,
      "_model_module_version": "1.2.0",
      "_view_count": null,
      "flex_flow": null,
      "width": null,
      "min_width": null,
      "border": null,
      "align_items": null,
      "bottom": null,
      "_model_module": "@jupyter-widgets/base",
      "top": null,
      "grid_column": null,
      "overflow_y": null,
      "overflow_x": null,
      "grid_auto_flow": null,
      "grid_area": null,
      "grid_template_columns": null,
      "flex": null,
      "_model_name": "LayoutModel",
      "justify_items": null,
      "grid_row": null,
      "max_height": null,
      "align_content": null,
      "visibility": null,
      "align_self": null,
      "height": null,
      "min_height": null,
      "padding": null,
      "grid_auto_rows": null,
      "grid_gap": null,
      "max_width": null,
      "order": null,
      "_view_module_version": "1.2.0",
      "grid_template_areas": null,
      "object_position": null,
      "object_fit": null,
      "grid_auto_columns": null,
      "margin": null,
      "display": null,
      "left": null
     }
    },
    "3ccc2d38354448d4bc1aa5add0d3d160": {
     "model_module": "@jupyter-widgets/controls",
     "model_name": "HBoxModel",
     "state": {
      "_view_name": "HBoxView",
      "_dom_classes": [],
      "_model_name": "HBoxModel",
      "_view_module": "@jupyter-widgets/controls",
      "_model_module_version": "1.5.0",
      "_view_count": null,
      "_view_module_version": "1.5.0",
      "box_style": "",
      "layout": "IPY_MODEL_63ad21e6e21d41b7879a7b8c11609b58",
      "_model_module": "@jupyter-widgets/controls",
      "children": [
       "IPY_MODEL_a97831c81a354b508ac81d8748f806c6",
       "IPY_MODEL_2f2921b3a7244303af2a43dcb716b217"
      ]
     }
    },
    "63ad21e6e21d41b7879a7b8c11609b58": {
     "model_module": "@jupyter-widgets/base",
     "model_name": "LayoutModel",
     "state": {
      "_view_name": "LayoutView",
      "grid_template_rows": null,
      "right": null,
      "justify_content": null,
      "_view_module": "@jupyter-widgets/base",
      "overflow": null,
      "_model_module_version": "1.2.0",
      "_view_count": null,
      "flex_flow": null,
      "width": null,
      "min_width": null,
      "border": null,
      "align_items": null,
      "bottom": null,
      "_model_module": "@jupyter-widgets/base",
      "top": null,
      "grid_column": null,
      "overflow_y": null,
      "overflow_x": null,
      "grid_auto_flow": null,
      "grid_area": null,
      "grid_template_columns": null,
      "flex": null,
      "_model_name": "LayoutModel",
      "justify_items": null,
      "grid_row": null,
      "max_height": null,
      "align_content": null,
      "visibility": null,
      "align_self": null,
      "height": null,
      "min_height": null,
      "padding": null,
      "grid_auto_rows": null,
      "grid_gap": null,
      "max_width": null,
      "order": null,
      "_view_module_version": "1.2.0",
      "grid_template_areas": null,
      "object_position": null,
      "object_fit": null,
      "grid_auto_columns": null,
      "margin": null,
      "display": null,
      "left": null
     }
    },
    "a97831c81a354b508ac81d8748f806c6": {
     "model_module": "@jupyter-widgets/controls",
     "model_name": "FloatProgressModel",
     "state": {
      "_view_name": "ProgressView",
      "style": "IPY_MODEL_c343fa04dc064abaa43d1a00dd843f0b",
      "_dom_classes": [],
      "description": "Downloading: 100%",
      "_model_name": "FloatProgressModel",
      "bar_style": "success",
      "max": 150,
      "_view_module": "@jupyter-widgets/controls",
      "_model_module_version": "1.5.0",
      "value": 150,
      "_view_count": null,
      "_view_module_version": "1.5.0",
      "orientation": "horizontal",
      "min": 0,
      "description_tooltip": null,
      "_model_module": "@jupyter-widgets/controls",
      "layout": "IPY_MODEL_08a2150d767545eb8a8de054ab41a9d7"
     }
    },
    "2f2921b3a7244303af2a43dcb716b217": {
     "model_module": "@jupyter-widgets/controls",
     "model_name": "HTMLModel",
     "state": {
      "_view_name": "HTMLView",
      "style": "IPY_MODEL_e44115de0700425da89ed30baa55da5a",
      "_dom_classes": [],
      "description": "",
      "_model_name": "HTMLModel",
      "placeholder": "​",
      "_view_module": "@jupyter-widgets/controls",
      "_model_module_version": "1.5.0",
      "value": " 150/150 [00:00&lt;00:00, 211B/s]",
      "_view_count": null,
      "_view_module_version": "1.5.0",
      "description_tooltip": null,
      "_model_module": "@jupyter-widgets/controls",
      "layout": "IPY_MODEL_4a55078e71614e7cb7505f56b1b262f7"
     }
    },
    "c343fa04dc064abaa43d1a00dd843f0b": {
     "model_module": "@jupyter-widgets/controls",
     "model_name": "ProgressStyleModel",
     "state": {
      "_view_name": "StyleView",
      "_model_name": "ProgressStyleModel",
      "description_width": "initial",
      "_view_module": "@jupyter-widgets/base",
      "_model_module_version": "1.5.0",
      "_view_count": null,
      "_view_module_version": "1.2.0",
      "bar_color": null,
      "_model_module": "@jupyter-widgets/controls"
     }
    },
    "08a2150d767545eb8a8de054ab41a9d7": {
     "model_module": "@jupyter-widgets/base",
     "model_name": "LayoutModel",
     "state": {
      "_view_name": "LayoutView",
      "grid_template_rows": null,
      "right": null,
      "justify_content": null,
      "_view_module": "@jupyter-widgets/base",
      "overflow": null,
      "_model_module_version": "1.2.0",
      "_view_count": null,
      "flex_flow": null,
      "width": null,
      "min_width": null,
      "border": null,
      "align_items": null,
      "bottom": null,
      "_model_module": "@jupyter-widgets/base",
      "top": null,
      "grid_column": null,
      "overflow_y": null,
      "overflow_x": null,
      "grid_auto_flow": null,
      "grid_area": null,
      "grid_template_columns": null,
      "flex": null,
      "_model_name": "LayoutModel",
      "justify_items": null,
      "grid_row": null,
      "max_height": null,
      "align_content": null,
      "visibility": null,
      "align_self": null,
      "height": null,
      "min_height": null,
      "padding": null,
      "grid_auto_rows": null,
      "grid_gap": null,
      "max_width": null,
      "order": null,
      "_view_module_version": "1.2.0",
      "grid_template_areas": null,
      "object_position": null,
      "object_fit": null,
      "grid_auto_columns": null,
      "margin": null,
      "display": null,
      "left": null
     }
    },
    "e44115de0700425da89ed30baa55da5a": {
     "model_module": "@jupyter-widgets/controls",
     "model_name": "DescriptionStyleModel",
     "state": {
      "_view_name": "StyleView",
      "_model_name": "DescriptionStyleModel",
      "description_width": "",
      "_view_module": "@jupyter-widgets/base",
      "_model_module_version": "1.5.0",
      "_view_count": null,
      "_view_module_version": "1.2.0",
      "_model_module": "@jupyter-widgets/controls"
     }
    },
    "4a55078e71614e7cb7505f56b1b262f7": {
     "model_module": "@jupyter-widgets/base",
     "model_name": "LayoutModel",
     "state": {
      "_view_name": "LayoutView",
      "grid_template_rows": null,
      "right": null,
      "justify_content": null,
      "_view_module": "@jupyter-widgets/base",
      "overflow": null,
      "_model_module_version": "1.2.0",
      "_view_count": null,
      "flex_flow": null,
      "width": null,
      "min_width": null,
      "border": null,
      "align_items": null,
      "bottom": null,
      "_model_module": "@jupyter-widgets/base",
      "top": null,
      "grid_column": null,
      "overflow_y": null,
      "overflow_x": null,
      "grid_auto_flow": null,
      "grid_area": null,
      "grid_template_columns": null,
      "flex": null,
      "_model_name": "LayoutModel",
      "justify_items": null,
      "grid_row": null,
      "max_height": null,
      "align_content": null,
      "visibility": null,
      "align_self": null,
      "height": null,
      "min_height": null,
      "padding": null,
      "grid_auto_rows": null,
      "grid_gap": null,
      "max_width": null,
      "order": null,
      "_view_module_version": "1.2.0",
      "grid_template_areas": null,
      "object_position": null,
      "object_fit": null,
      "grid_auto_columns": null,
      "margin": null,
      "display": null,
      "left": null
     }
    }
   }
  }
 },
 "cells": [
  {
   "cell_type": "markdown",
   "metadata": {
    "id": "YaoDr57T74ag",
    "pycharm": {
     "name": "#%% md\n"
    }
   },
   "source": [
    "# 1 - Installs and imports"
   ]
  },
  {
   "cell_type": "code",
   "metadata": {
    "colab": {
     "base_uri": "https://localhost:8080/"
    },
    "id": "OXC3dguV3cDb",
    "outputId": "5f99cde1-35e5-4394-ec08-d8563d939725",
    "pycharm": {
     "name": "#%%\n"
    }
   },
   "source": [
    "!pip install --upgrade pip\n",
    "!pip install sentencepiece\n",
    "!pip install transformers"
   ],
   "execution_count": null,
   "outputs": [
    {
     "output_type": "stream",
     "text": [
      "Collecting pip\n",
      "\u001B[?25l  Downloading https://files.pythonhosted.org/packages/ac/cf/0cc542fc93de2f3b9b53cb979c7d1118cffb93204afb46299a9f858e113f/pip-21.1-py3-none-any.whl (1.5MB)\n",
      "\r\u001B[K     |▏                               | 10kB 23.5MB/s eta 0:00:01\r\u001B[K     |▍                               | 20kB 28.6MB/s eta 0:00:01\r\u001B[K     |▋                               | 30kB 23.7MB/s eta 0:00:01\r\u001B[K     |▉                               | 40kB 27.1MB/s eta 0:00:01\r\u001B[K     |█                               | 51kB 26.4MB/s eta 0:00:01\r\u001B[K     |█▎                              | 61kB 29.1MB/s eta 0:00:01\r\u001B[K     |█▌                              | 71kB 18.9MB/s eta 0:00:01\r\u001B[K     |█▊                              | 81kB 19.4MB/s eta 0:00:01\r\u001B[K     |██                              | 92kB 18.0MB/s eta 0:00:01\r\u001B[K     |██▏                             | 102kB 18.5MB/s eta 0:00:01\r\u001B[K     |██▎                             | 112kB 18.5MB/s eta 0:00:01\r\u001B[K     |██▌                             | 122kB 18.5MB/s eta 0:00:01\r\u001B[K     |██▊                             | 133kB 18.5MB/s eta 0:00:01\r\u001B[K     |███                             | 143kB 18.5MB/s eta 0:00:01\r\u001B[K     |███▏                            | 153kB 18.5MB/s eta 0:00:01\r\u001B[K     |███▍                            | 163kB 18.5MB/s eta 0:00:01\r\u001B[K     |███▋                            | 174kB 18.5MB/s eta 0:00:01\r\u001B[K     |███▉                            | 184kB 18.5MB/s eta 0:00:01\r\u001B[K     |████                            | 194kB 18.5MB/s eta 0:00:01\r\u001B[K     |████▎                           | 204kB 18.5MB/s eta 0:00:01\r\u001B[K     |████▌                           | 215kB 18.5MB/s eta 0:00:01\r\u001B[K     |████▋                           | 225kB 18.5MB/s eta 0:00:01\r\u001B[K     |████▉                           | 235kB 18.5MB/s eta 0:00:01\r\u001B[K     |█████                           | 245kB 18.5MB/s eta 0:00:01\r\u001B[K     |█████▎                          | 256kB 18.5MB/s eta 0:00:01\r\u001B[K     |█████▌                          | 266kB 18.5MB/s eta 0:00:01\r\u001B[K     |█████▊                          | 276kB 18.5MB/s eta 0:00:01\r\u001B[K     |██████                          | 286kB 18.5MB/s eta 0:00:01\r\u001B[K     |██████▏                         | 296kB 18.5MB/s eta 0:00:01\r\u001B[K     |██████▍                         | 307kB 18.5MB/s eta 0:00:01\r\u001B[K     |██████▋                         | 317kB 18.5MB/s eta 0:00:01\r\u001B[K     |██████▊                         | 327kB 18.5MB/s eta 0:00:01\r\u001B[K     |███████                         | 337kB 18.5MB/s eta 0:00:01\r\u001B[K     |███████▏                        | 348kB 18.5MB/s eta 0:00:01\r\u001B[K     |███████▍                        | 358kB 18.5MB/s eta 0:00:01\r\u001B[K     |███████▋                        | 368kB 18.5MB/s eta 0:00:01\r\u001B[K     |███████▉                        | 378kB 18.5MB/s eta 0:00:01\r\u001B[K     |████████                        | 389kB 18.5MB/s eta 0:00:01\r\u001B[K     |████████▎                       | 399kB 18.5MB/s eta 0:00:01\r\u001B[K     |████████▌                       | 409kB 18.5MB/s eta 0:00:01\r\u001B[K     |████████▊                       | 419kB 18.5MB/s eta 0:00:01\r\u001B[K     |█████████                       | 430kB 18.5MB/s eta 0:00:01\r\u001B[K     |█████████                       | 440kB 18.5MB/s eta 0:00:01\r\u001B[K     |█████████▎                      | 450kB 18.5MB/s eta 0:00:01\r\u001B[K     |█████████▌                      | 460kB 18.5MB/s eta 0:00:01\r\u001B[K     |█████████▊                      | 471kB 18.5MB/s eta 0:00:01\r\u001B[K     |██████████                      | 481kB 18.5MB/s eta 0:00:01\r\u001B[K     |██████████▏                     | 491kB 18.5MB/s eta 0:00:01\r\u001B[K     |██████████▍                     | 501kB 18.5MB/s eta 0:00:01\r\u001B[K     |██████████▋                     | 512kB 18.5MB/s eta 0:00:01\r\u001B[K     |██████████▉                     | 522kB 18.5MB/s eta 0:00:01\r\u001B[K     |███████████                     | 532kB 18.5MB/s eta 0:00:01\r\u001B[K     |███████████▎                    | 542kB 18.5MB/s eta 0:00:01\r\u001B[K     |███████████▍                    | 552kB 18.5MB/s eta 0:00:01\r\u001B[K     |███████████▋                    | 563kB 18.5MB/s eta 0:00:01\r\u001B[K     |███████████▉                    | 573kB 18.5MB/s eta 0:00:01\r\u001B[K     |████████████                    | 583kB 18.5MB/s eta 0:00:01\r\u001B[K     |████████████▎                   | 593kB 18.5MB/s eta 0:00:01\r\u001B[K     |████████████▌                   | 604kB 18.5MB/s eta 0:00:01\r\u001B[K     |████████████▊                   | 614kB 18.5MB/s eta 0:00:01\r\u001B[K     |█████████████                   | 624kB 18.5MB/s eta 0:00:01\r\u001B[K     |█████████████▏                  | 634kB 18.5MB/s eta 0:00:01\r\u001B[K     |█████████████▍                  | 645kB 18.5MB/s eta 0:00:01\r\u001B[K     |█████████████▌                  | 655kB 18.5MB/s eta 0:00:01\r\u001B[K     |█████████████▊                  | 665kB 18.5MB/s eta 0:00:01\r\u001B[K     |██████████████                  | 675kB 18.5MB/s eta 0:00:01\r\u001B[K     |██████████████▏                 | 686kB 18.5MB/s eta 0:00:01\r\u001B[K     |██████████████▍                 | 696kB 18.5MB/s eta 0:00:01\r\u001B[K     |██████████████▋                 | 706kB 18.5MB/s eta 0:00:01\r\u001B[K     |██████████████▉                 | 716kB 18.5MB/s eta 0:00:01\r\u001B[K     |███████████████                 | 727kB 18.5MB/s eta 0:00:01\r\u001B[K     |███████████████▎                | 737kB 18.5MB/s eta 0:00:01\r\u001B[K     |███████████████▌                | 747kB 18.5MB/s eta 0:00:01\r\u001B[K     |███████████████▊                | 757kB 18.5MB/s eta 0:00:01\r\u001B[K     |███████████████▉                | 768kB 18.5MB/s eta 0:00:01\r\u001B[K     |████████████████                | 778kB 18.5MB/s eta 0:00:01\r\u001B[K     |████████████████▎               | 788kB 18.5MB/s eta 0:00:01\r\u001B[K     |████████████████▌               | 798kB 18.5MB/s eta 0:00:01\r\u001B[K     |████████████████▊               | 808kB 18.5MB/s eta 0:00:01\r\u001B[K     |█████████████████               | 819kB 18.5MB/s eta 0:00:01\r\u001B[K     |█████████████████▏              | 829kB 18.5MB/s eta 0:00:01\r\u001B[K     |█████████████████▍              | 839kB 18.5MB/s eta 0:00:01\r\u001B[K     |█████████████████▋              | 849kB 18.5MB/s eta 0:00:01\r\u001B[K     |█████████████████▉              | 860kB 18.5MB/s eta 0:00:01\r\u001B[K     |██████████████████              | 870kB 18.5MB/s eta 0:00:01\r\u001B[K     |██████████████████▏             | 880kB 18.5MB/s eta 0:00:01\r\u001B[K     |██████████████████▍             | 890kB 18.5MB/s eta 0:00:01\r\u001B[K     |██████████████████▋             | 901kB 18.5MB/s eta 0:00:01\r\u001B[K     |██████████████████▉             | 911kB 18.5MB/s eta 0:00:01\r\u001B[K     |███████████████████             | 921kB 18.5MB/s eta 0:00:01\r\u001B[K     |███████████████████▎            | 931kB 18.5MB/s eta 0:00:01\r\u001B[K     |███████████████████▌            | 942kB 18.5MB/s eta 0:00:01\r\u001B[K     |███████████████████▊            | 952kB 18.5MB/s eta 0:00:01\r\u001B[K     |████████████████████            | 962kB 18.5MB/s eta 0:00:01\r\u001B[K     |████████████████████▏           | 972kB 18.5MB/s eta 0:00:01\r\u001B[K     |████████████████████▎           | 983kB 18.5MB/s eta 0:00:01\r\u001B[K     |████████████████████▌           | 993kB 18.5MB/s eta 0:00:01\r\u001B[K     |████████████████████▊           | 1.0MB 18.5MB/s eta 0:00:01\r\u001B[K     |█████████████████████           | 1.0MB 18.5MB/s eta 0:00:01\r\u001B[K     |█████████████████████▏          | 1.0MB 18.5MB/s eta 0:00:01\r\u001B[K     |█████████████████████▍          | 1.0MB 18.5MB/s eta 0:00:01\r\u001B[K     |█████████████████████▋          | 1.0MB 18.5MB/s eta 0:00:01\r\u001B[K     |█████████████████████▉          | 1.1MB 18.5MB/s eta 0:00:01\r\u001B[K     |██████████████████████          | 1.1MB 18.5MB/s eta 0:00:01\r\u001B[K     |██████████████████████▎         | 1.1MB 18.5MB/s eta 0:00:01\r\u001B[K     |██████████████████████▌         | 1.1MB 18.5MB/s eta 0:00:01\r\u001B[K     |██████████████████████▋         | 1.1MB 18.5MB/s eta 0:00:01\r\u001B[K     |██████████████████████▉         | 1.1MB 18.5MB/s eta 0:00:01\r\u001B[K     |███████████████████████         | 1.1MB 18.5MB/s eta 0:00:01\r\u001B[K     |███████████████████████▎        | 1.1MB 18.5MB/s eta 0:00:01\r\u001B[K     |███████████████████████▌        | 1.1MB 18.5MB/s eta 0:00:01\r\u001B[K     |███████████████████████▊        | 1.1MB 18.5MB/s eta 0:00:01\r\u001B[K     |████████████████████████        | 1.2MB 18.5MB/s eta 0:00:01\r\u001B[K     |████████████████████████▏       | 1.2MB 18.5MB/s eta 0:00:01\r\u001B[K     |████████████████████████▍       | 1.2MB 18.5MB/s eta 0:00:01\r\u001B[K     |████████████████████████▋       | 1.2MB 18.5MB/s eta 0:00:01\r\u001B[K     |████████████████████████▉       | 1.2MB 18.5MB/s eta 0:00:01\r\u001B[K     |█████████████████████████       | 1.2MB 18.5MB/s eta 0:00:01\r\u001B[K     |█████████████████████████▏      | 1.2MB 18.5MB/s eta 0:00:01\r\u001B[K     |█████████████████████████▍      | 1.2MB 18.5MB/s eta 0:00:01\r\u001B[K     |█████████████████████████▋      | 1.2MB 18.5MB/s eta 0:00:01\r\u001B[K     |█████████████████████████▉      | 1.2MB 18.5MB/s eta 0:00:01\r\u001B[K     |██████████████████████████      | 1.3MB 18.5MB/s eta 0:00:01\r\u001B[K     |██████████████████████████▎     | 1.3MB 18.5MB/s eta 0:00:01\r\u001B[K     |██████████████████████████▌     | 1.3MB 18.5MB/s eta 0:00:01\r\u001B[K     |██████████████████████████▊     | 1.3MB 18.5MB/s eta 0:00:01\r\u001B[K     |███████████████████████████     | 1.3MB 18.5MB/s eta 0:00:01\r\u001B[K     |███████████████████████████     | 1.3MB 18.5MB/s eta 0:00:01\r\u001B[K     |███████████████████████████▎    | 1.3MB 18.5MB/s eta 0:00:01\r\u001B[K     |███████████████████████████▌    | 1.3MB 18.5MB/s eta 0:00:01\r\u001B[K     |███████████████████████████▊    | 1.3MB 18.5MB/s eta 0:00:01\r\u001B[K     |████████████████████████████    | 1.4MB 18.5MB/s eta 0:00:01\r\u001B[K     |████████████████████████████▏   | 1.4MB 18.5MB/s eta 0:00:01\r\u001B[K     |████████████████████████████▍   | 1.4MB 18.5MB/s eta 0:00:01\r\u001B[K     |████████████████████████████▋   | 1.4MB 18.5MB/s eta 0:00:01\r\u001B[K     |████████████████████████████▉   | 1.4MB 18.5MB/s eta 0:00:01\r\u001B[K     |█████████████████████████████   | 1.4MB 18.5MB/s eta 0:00:01\r\u001B[K     |█████████████████████████████▎  | 1.4MB 18.5MB/s eta 0:00:01\r\u001B[K     |█████████████████████████████▍  | 1.4MB 18.5MB/s eta 0:00:01\r\u001B[K     |█████████████████████████████▋  | 1.4MB 18.5MB/s eta 0:00:01\r\u001B[K     |█████████████████████████████▉  | 1.4MB 18.5MB/s eta 0:00:01\r\u001B[K     |██████████████████████████████  | 1.5MB 18.5MB/s eta 0:00:01\r\u001B[K     |██████████████████████████████▎ | 1.5MB 18.5MB/s eta 0:00:01\r\u001B[K     |██████████████████████████████▌ | 1.5MB 18.5MB/s eta 0:00:01\r\u001B[K     |██████████████████████████████▊ | 1.5MB 18.5MB/s eta 0:00:01\r\u001B[K     |███████████████████████████████ | 1.5MB 18.5MB/s eta 0:00:01\r\u001B[K     |███████████████████████████████▏| 1.5MB 18.5MB/s eta 0:00:01\r\u001B[K     |███████████████████████████████▍| 1.5MB 18.5MB/s eta 0:00:01\r\u001B[K     |███████████████████████████████▋| 1.5MB 18.5MB/s eta 0:00:01\r\u001B[K     |███████████████████████████████▊| 1.5MB 18.5MB/s eta 0:00:01\r\u001B[K     |████████████████████████████████| 1.5MB 18.5MB/s eta 0:00:01\r\u001B[K     |████████████████████████████████| 1.6MB 18.5MB/s \n",
      "\u001B[?25hInstalling collected packages: pip\n",
      "  Found existing installation: pip 19.3.1\n",
      "    Uninstalling pip-19.3.1:\n",
      "      Successfully uninstalled pip-19.3.1\n",
      "Successfully installed pip-21.1\n",
      "\u001B[33mWARNING: Value for scheme.platlib does not match. Please report this to <https://github.com/pypa/pip/issues/9617>\n",
      "distutils: /usr/local/lib/python3.7/dist-packages\n",
      "sysconfig: /usr/lib/python3.7/site-packages\u001B[0m\n",
      "\u001B[33mWARNING: Value for scheme.purelib does not match. Please report this to <https://github.com/pypa/pip/issues/9617>\n",
      "distutils: /usr/local/lib/python3.7/dist-packages\n",
      "sysconfig: /usr/lib/python3.7/site-packages\u001B[0m\n",
      "\u001B[33mWARNING: Value for scheme.headers does not match. Please report this to <https://github.com/pypa/pip/issues/9617>\n",
      "distutils: /usr/local/include/python3.7/UNKNOWN\n",
      "sysconfig: /usr/include/python3.7m\u001B[0m\n",
      "\u001B[33mWARNING: Value for scheme.scripts does not match. Please report this to <https://github.com/pypa/pip/issues/9617>\n",
      "distutils: /usr/local/bin\n",
      "sysconfig: /usr/bin\u001B[0m\n",
      "\u001B[33mWARNING: Value for scheme.data does not match. Please report this to <https://github.com/pypa/pip/issues/9617>\n",
      "distutils: /usr/local\n",
      "sysconfig: /usr\u001B[0m\n",
      "\u001B[33mWARNING: Additional context:\n",
      "user = False\n",
      "home = None\n",
      "root = None\n",
      "prefix = None\u001B[0m\n",
      "Collecting sentencepiece\n",
      "  Downloading sentencepiece-0.1.95-cp37-cp37m-manylinux2014_x86_64.whl (1.2 MB)\n",
      "\u001B[K     |████████████████████████████████| 1.2 MB 21.1 MB/s \n",
      "\u001B[?25hInstalling collected packages: sentencepiece\n",
      "\u001B[33m  WARNING: Value for scheme.platlib does not match. Please report this to <https://github.com/pypa/pip/issues/9617>\n",
      "  distutils: /usr/local/lib/python3.7/dist-packages\n",
      "  sysconfig: /usr/lib/python3.7/site-packages\u001B[0m\n",
      "\u001B[33m  WARNING: Value for scheme.purelib does not match. Please report this to <https://github.com/pypa/pip/issues/9617>\n",
      "  distutils: /usr/local/lib/python3.7/dist-packages\n",
      "  sysconfig: /usr/lib/python3.7/site-packages\u001B[0m\n",
      "\u001B[33m  WARNING: Value for scheme.headers does not match. Please report this to <https://github.com/pypa/pip/issues/9617>\n",
      "  distutils: /usr/local/include/python3.7/sentencepiece\n",
      "  sysconfig: /usr/include/python3.7m/sentencepiece\u001B[0m\n",
      "\u001B[33m  WARNING: Value for scheme.scripts does not match. Please report this to <https://github.com/pypa/pip/issues/9617>\n",
      "  distutils: /usr/local/bin\n",
      "  sysconfig: /usr/bin\u001B[0m\n",
      "\u001B[33m  WARNING: Value for scheme.data does not match. Please report this to <https://github.com/pypa/pip/issues/9617>\n",
      "  distutils: /usr/local\n",
      "  sysconfig: /usr\u001B[0m\n",
      "\u001B[33m  WARNING: Additional context:\n",
      "  user = False\n",
      "  home = None\n",
      "  root = None\n",
      "  prefix = None\u001B[0m\n",
      "\u001B[33mWARNING: Value for scheme.platlib does not match. Please report this to <https://github.com/pypa/pip/issues/9617>\n",
      "distutils: /usr/local/lib/python3.7/dist-packages\n",
      "sysconfig: /usr/lib/python3.7/site-packages\u001B[0m\n",
      "\u001B[33mWARNING: Value for scheme.purelib does not match. Please report this to <https://github.com/pypa/pip/issues/9617>\n",
      "distutils: /usr/local/lib/python3.7/dist-packages\n",
      "sysconfig: /usr/lib/python3.7/site-packages\u001B[0m\n",
      "\u001B[33mWARNING: Value for scheme.headers does not match. Please report this to <https://github.com/pypa/pip/issues/9617>\n",
      "distutils: /usr/local/include/python3.7/UNKNOWN\n",
      "sysconfig: /usr/include/python3.7m\u001B[0m\n",
      "\u001B[33mWARNING: Value for scheme.scripts does not match. Please report this to <https://github.com/pypa/pip/issues/9617>\n",
      "distutils: /usr/local/bin\n",
      "sysconfig: /usr/bin\u001B[0m\n",
      "\u001B[33mWARNING: Value for scheme.data does not match. Please report this to <https://github.com/pypa/pip/issues/9617>\n",
      "distutils: /usr/local\n",
      "sysconfig: /usr\u001B[0m\n",
      "\u001B[33mWARNING: Additional context:\n",
      "user = False\n",
      "home = None\n",
      "root = None\n",
      "prefix = None\u001B[0m\n",
      "Successfully installed sentencepiece-0.1.95\n",
      "\u001B[33mWARNING: Running pip as root will break packages and permissions. You should install packages reliably by using venv: https://pip.pypa.io/warnings/venv\u001B[0m\n",
      "\u001B[33mWARNING: Value for scheme.platlib does not match. Please report this to <https://github.com/pypa/pip/issues/9617>\n",
      "distutils: /usr/local/lib/python3.7/dist-packages\n",
      "sysconfig: /usr/lib/python3.7/site-packages\u001B[0m\n",
      "\u001B[33mWARNING: Value for scheme.purelib does not match. Please report this to <https://github.com/pypa/pip/issues/9617>\n",
      "distutils: /usr/local/lib/python3.7/dist-packages\n",
      "sysconfig: /usr/lib/python3.7/site-packages\u001B[0m\n",
      "\u001B[33mWARNING: Value for scheme.headers does not match. Please report this to <https://github.com/pypa/pip/issues/9617>\n",
      "distutils: /usr/local/include/python3.7/UNKNOWN\n",
      "sysconfig: /usr/include/python3.7m\u001B[0m\n",
      "\u001B[33mWARNING: Value for scheme.scripts does not match. Please report this to <https://github.com/pypa/pip/issues/9617>\n",
      "distutils: /usr/local/bin\n",
      "sysconfig: /usr/bin\u001B[0m\n",
      "\u001B[33mWARNING: Value for scheme.data does not match. Please report this to <https://github.com/pypa/pip/issues/9617>\n",
      "distutils: /usr/local\n",
      "sysconfig: /usr\u001B[0m\n",
      "\u001B[33mWARNING: Additional context:\n",
      "user = False\n",
      "home = None\n",
      "root = None\n",
      "prefix = None\u001B[0m\n",
      "Collecting transformers\n",
      "  Downloading transformers-4.5.1-py3-none-any.whl (2.1 MB)\n",
      "\u001B[K     |████████████████████████████████| 2.1 MB 19.1 MB/s \n",
      "\u001B[?25hRequirement already satisfied: numpy>=1.17 in /usr/local/lib/python3.7/dist-packages (from transformers) (1.19.5)\n",
      "Collecting sacremoses\n",
      "  Downloading sacremoses-0.0.45-py3-none-any.whl (895 kB)\n",
      "\u001B[K     |████████████████████████████████| 895 kB 51.9 MB/s \n",
      "\u001B[?25hCollecting tokenizers<0.11,>=0.10.1\n",
      "  Downloading tokenizers-0.10.2-cp37-cp37m-manylinux2010_x86_64.whl (3.3 MB)\n",
      "\u001B[K     |████████████████████████████████| 3.3 MB 70.2 MB/s \n",
      "\u001B[?25hRequirement already satisfied: requests in /usr/local/lib/python3.7/dist-packages (from transformers) (2.23.0)\n",
      "Requirement already satisfied: filelock in /usr/local/lib/python3.7/dist-packages (from transformers) (3.0.12)\n",
      "Requirement already satisfied: tqdm>=4.27 in /usr/local/lib/python3.7/dist-packages (from transformers) (4.41.1)\n",
      "Requirement already satisfied: importlib-metadata in /usr/local/lib/python3.7/dist-packages (from transformers) (3.10.1)\n",
      "Requirement already satisfied: packaging in /usr/local/lib/python3.7/dist-packages (from transformers) (20.9)\n",
      "Requirement already satisfied: regex!=2019.12.17 in /usr/local/lib/python3.7/dist-packages (from transformers) (2019.12.20)\n",
      "Requirement already satisfied: zipp>=0.5 in /usr/local/lib/python3.7/dist-packages (from importlib-metadata->transformers) (3.4.1)\n",
      "Requirement already satisfied: typing-extensions>=3.6.4 in /usr/local/lib/python3.7/dist-packages (from importlib-metadata->transformers) (3.7.4.3)\n",
      "Requirement already satisfied: pyparsing>=2.0.2 in /usr/local/lib/python3.7/dist-packages (from packaging->transformers) (2.4.7)\n",
      "Requirement already satisfied: idna<3,>=2.5 in /usr/local/lib/python3.7/dist-packages (from requests->transformers) (2.10)\n",
      "Requirement already satisfied: chardet<4,>=3.0.2 in /usr/local/lib/python3.7/dist-packages (from requests->transformers) (3.0.4)\n",
      "Requirement already satisfied: urllib3!=1.25.0,!=1.25.1,<1.26,>=1.21.1 in /usr/local/lib/python3.7/dist-packages (from requests->transformers) (1.24.3)\n",
      "Requirement already satisfied: certifi>=2017.4.17 in /usr/local/lib/python3.7/dist-packages (from requests->transformers) (2020.12.5)\n",
      "Requirement already satisfied: click in /usr/local/lib/python3.7/dist-packages (from sacremoses->transformers) (7.1.2)\n",
      "Requirement already satisfied: six in /usr/local/lib/python3.7/dist-packages (from sacremoses->transformers) (1.15.0)\n",
      "Requirement already satisfied: joblib in /usr/local/lib/python3.7/dist-packages (from sacremoses->transformers) (1.0.1)\n",
      "Installing collected packages: tokenizers, sacremoses, transformers\n",
      "\u001B[33m  WARNING: Value for scheme.platlib does not match. Please report this to <https://github.com/pypa/pip/issues/9617>\n",
      "  distutils: /usr/local/lib/python3.7/dist-packages\n",
      "  sysconfig: /usr/lib/python3.7/site-packages\u001B[0m\n",
      "\u001B[33m  WARNING: Value for scheme.purelib does not match. Please report this to <https://github.com/pypa/pip/issues/9617>\n",
      "  distutils: /usr/local/lib/python3.7/dist-packages\n",
      "  sysconfig: /usr/lib/python3.7/site-packages\u001B[0m\n",
      "\u001B[33m  WARNING: Value for scheme.headers does not match. Please report this to <https://github.com/pypa/pip/issues/9617>\n",
      "  distutils: /usr/local/include/python3.7/tokenizers\n",
      "  sysconfig: /usr/include/python3.7m/tokenizers\u001B[0m\n",
      "\u001B[33m  WARNING: Value for scheme.scripts does not match. Please report this to <https://github.com/pypa/pip/issues/9617>\n",
      "  distutils: /usr/local/bin\n",
      "  sysconfig: /usr/bin\u001B[0m\n",
      "\u001B[33m  WARNING: Value for scheme.data does not match. Please report this to <https://github.com/pypa/pip/issues/9617>\n",
      "  distutils: /usr/local\n",
      "  sysconfig: /usr\u001B[0m\n",
      "\u001B[33m  WARNING: Additional context:\n",
      "  user = False\n",
      "  home = None\n",
      "  root = None\n",
      "  prefix = None\u001B[0m\n",
      "\u001B[33m  WARNING: Value for scheme.platlib does not match. Please report this to <https://github.com/pypa/pip/issues/9617>\n",
      "  distutils: /usr/local/lib/python3.7/dist-packages\n",
      "  sysconfig: /usr/lib/python3.7/site-packages\u001B[0m\n",
      "\u001B[33m  WARNING: Value for scheme.purelib does not match. Please report this to <https://github.com/pypa/pip/issues/9617>\n",
      "  distutils: /usr/local/lib/python3.7/dist-packages\n",
      "  sysconfig: /usr/lib/python3.7/site-packages\u001B[0m\n",
      "\u001B[33m  WARNING: Value for scheme.headers does not match. Please report this to <https://github.com/pypa/pip/issues/9617>\n",
      "  distutils: /usr/local/include/python3.7/sacremoses\n",
      "  sysconfig: /usr/include/python3.7m/sacremoses\u001B[0m\n",
      "\u001B[33m  WARNING: Value for scheme.scripts does not match. Please report this to <https://github.com/pypa/pip/issues/9617>\n",
      "  distutils: /usr/local/bin\n",
      "  sysconfig: /usr/bin\u001B[0m\n",
      "\u001B[33m  WARNING: Value for scheme.data does not match. Please report this to <https://github.com/pypa/pip/issues/9617>\n",
      "  distutils: /usr/local\n",
      "  sysconfig: /usr\u001B[0m\n",
      "\u001B[33m  WARNING: Additional context:\n",
      "  user = False\n",
      "  home = None\n",
      "  root = None\n",
      "  prefix = None\u001B[0m\n",
      "\u001B[33m  WARNING: Value for scheme.platlib does not match. Please report this to <https://github.com/pypa/pip/issues/9617>\n",
      "  distutils: /usr/local/lib/python3.7/dist-packages\n",
      "  sysconfig: /usr/lib/python3.7/site-packages\u001B[0m\n",
      "\u001B[33m  WARNING: Value for scheme.purelib does not match. Please report this to <https://github.com/pypa/pip/issues/9617>\n",
      "  distutils: /usr/local/lib/python3.7/dist-packages\n",
      "  sysconfig: /usr/lib/python3.7/site-packages\u001B[0m\n",
      "\u001B[33m  WARNING: Value for scheme.headers does not match. Please report this to <https://github.com/pypa/pip/issues/9617>\n",
      "  distutils: /usr/local/include/python3.7/transformers\n",
      "  sysconfig: /usr/include/python3.7m/transformers\u001B[0m\n",
      "\u001B[33m  WARNING: Value for scheme.scripts does not match. Please report this to <https://github.com/pypa/pip/issues/9617>\n",
      "  distutils: /usr/local/bin\n",
      "  sysconfig: /usr/bin\u001B[0m\n",
      "\u001B[33m  WARNING: Value for scheme.data does not match. Please report this to <https://github.com/pypa/pip/issues/9617>\n",
      "  distutils: /usr/local\n",
      "  sysconfig: /usr\u001B[0m\n",
      "\u001B[33m  WARNING: Additional context:\n",
      "  user = False\n",
      "  home = None\n",
      "  root = None\n",
      "  prefix = None\u001B[0m\n",
      "\u001B[33mWARNING: Value for scheme.platlib does not match. Please report this to <https://github.com/pypa/pip/issues/9617>\n",
      "distutils: /usr/local/lib/python3.7/dist-packages\n",
      "sysconfig: /usr/lib/python3.7/site-packages\u001B[0m\n",
      "\u001B[33mWARNING: Value for scheme.purelib does not match. Please report this to <https://github.com/pypa/pip/issues/9617>\n",
      "distutils: /usr/local/lib/python3.7/dist-packages\n",
      "sysconfig: /usr/lib/python3.7/site-packages\u001B[0m\n",
      "\u001B[33mWARNING: Value for scheme.headers does not match. Please report this to <https://github.com/pypa/pip/issues/9617>\n",
      "distutils: /usr/local/include/python3.7/UNKNOWN\n",
      "sysconfig: /usr/include/python3.7m\u001B[0m\n",
      "\u001B[33mWARNING: Value for scheme.scripts does not match. Please report this to <https://github.com/pypa/pip/issues/9617>\n",
      "distutils: /usr/local/bin\n",
      "sysconfig: /usr/bin\u001B[0m\n",
      "\u001B[33mWARNING: Value for scheme.data does not match. Please report this to <https://github.com/pypa/pip/issues/9617>\n",
      "distutils: /usr/local\n",
      "sysconfig: /usr\u001B[0m\n",
      "\u001B[33mWARNING: Additional context:\n",
      "user = False\n",
      "home = None\n",
      "root = None\n",
      "prefix = None\u001B[0m\n",
      "Successfully installed sacremoses-0.0.45 tokenizers-0.10.2 transformers-4.5.1\n",
      "\u001B[33mWARNING: Running pip as root will break packages and permissions. You should install packages reliably by using venv: https://pip.pypa.io/warnings/venv\u001B[0m\n"
     ],
     "name": "stdout"
    }
   ]
  },
  {
   "cell_type": "code",
   "metadata": {
    "id": "YWLw1TOn6P_u",
    "pycharm": {
     "name": "#%%\n"
    }
   },
   "source": [
    "#from transformers import AutoTokenizer, AutoModel, TFAutoModel, AutoConfig\n",
    "#from transformers import AutoModelForSequenceClassification\n",
    "#from transformers import TFAutoModelForSequenceClassification\n",
    "#from transformers import pipeline\n",
    "import numpy as np\n",
    "from scipy.spatial.distance import cosine\n",
    "from collections import defaultdict \n",
    "import urllib\n",
    "import numpy as np\n",
    "from scipy.special import softmax\n",
    "from sklearn.metrics import classification_report"
   ],
   "execution_count": 2,
   "outputs": []
  },
  {
   "cell_type": "markdown",
   "metadata": {
    "id": "1mUmexGY8FUr",
    "pycharm": {
     "name": "#%% md\n"
    }
   },
   "source": [
    "# 2 - Fetch XLM-T model"
   ]
  },
  {
   "cell_type": "code",
   "metadata": {
    "id": "j8v8HPwj6P_y",
    "colab": {
     "base_uri": "https://localhost:8080/",
     "height": 274,
     "referenced_widgets": [
      "ddcb6a7cd9234afb8a275412e395ccb6",
      "5db71a8863654e969944191a00f1d551",
      "d13d24c0f8cb40d5bf612d3e49107db1",
      "a61eb34fa0e94bfeab1986b1375d943c",
      "564f8e79d44d4c898810867998ae1472",
      "9172470187554d8db894631412917cfb",
      "5ea1a5bfa42a46a99b9c16aead52fabc",
      "93a54ad38e684d658df8704a35e10f4f",
      "34fc9e1019574bf6b9d06bf31d44c658",
      "61f165fca7d54a7db6db268c990008bb",
      "0a9debd6978643739540c066e3a3a076",
      "0b7778176d1c4d4482dc8760c57040e0",
      "a519d9c762064d4891cf17a54e5c12ac",
      "360eabebe77f4812ac307b6fc8ef8745",
      "d877cc9feb84431782c6b42cda37fb50",
      "081de55c58de45529516eb299dfea258",
      "e993bd69e10a48e28f21c812ec8e03ef",
      "75313806fc89495f8f0cdde43ba3794d",
      "ef5af815d27e464b8c85bd51403935a5",
      "d5f7be689d0c47818ede36a42809f733",
      "363e21ce272245c498e1807eea21eff9",
      "fb9fc35c0d4d4ab88490fedd59008940",
      "8304523181a44d93a81df1e5716fe65f",
      "b118e074396e4bdf9c0f0cd966286e21",
      "c57e13a1090e48a2a8775a7bd2022747",
      "12ba26b96c8345c5baf95331616a68ed",
      "4fbeab6821fd410c9e5ef253b8974664",
      "26bceeb8a64f4c098646764c6aeae2e6",
      "10d3fdcdce7c4700addac255f1781b56",
      "114be59b9cbf4de288da6b047452a164",
      "b25e869eaab1417a81739e1a5e33ad18",
      "78984f2a007c4a40a0c10abfcefb4365"
     ]
    },
    "outputId": "236f4da3-c779-452e-92ea-c097a40f3a57",
    "pycharm": {
     "name": "#%%\n"
    }
   },
   "source": [
    "MODEL =  \"cardiffnlp/twitter-xlm-roberta-base\"\n",
    "tokenizer = AutoTokenizer.from_pretrained(MODEL)\n",
    "model = AutoModel.from_pretrained(MODEL)"
   ],
   "execution_count": null,
   "outputs": [
    {
     "output_type": "display_data",
     "data": {
      "application/vnd.jupyter.widget-view+json": {
       "model_id": "ddcb6a7cd9234afb8a275412e395ccb6",
       "version_minor": 0,
       "version_major": 2
      },
      "text/plain": [
       "HBox(children=(FloatProgress(value=0.0, description='Downloading', max=652.0, style=ProgressStyle(description_…"
      ]
     },
     "metadata": {
      "tags": []
     }
    },
    {
     "output_type": "stream",
     "text": [
      "\n"
     ],
     "name": "stdout"
    },
    {
     "output_type": "display_data",
     "data": {
      "application/vnd.jupyter.widget-view+json": {
       "model_id": "34fc9e1019574bf6b9d06bf31d44c658",
       "version_minor": 0,
       "version_major": 2
      },
      "text/plain": [
       "HBox(children=(FloatProgress(value=0.0, description='Downloading', max=5069051.0, style=ProgressStyle(descript…"
      ]
     },
     "metadata": {
      "tags": []
     }
    },
    {
     "output_type": "stream",
     "text": [
      "\n"
     ],
     "name": "stdout"
    },
    {
     "output_type": "display_data",
     "data": {
      "application/vnd.jupyter.widget-view+json": {
       "model_id": "e993bd69e10a48e28f21c812ec8e03ef",
       "version_minor": 0,
       "version_major": 2
      },
      "text/plain": [
       "HBox(children=(FloatProgress(value=0.0, description='Downloading', max=9096718.0, style=ProgressStyle(descript…"
      ]
     },
     "metadata": {
      "tags": []
     }
    },
    {
     "output_type": "stream",
     "text": [
      "\n"
     ],
     "name": "stdout"
    },
    {
     "output_type": "display_data",
     "data": {
      "application/vnd.jupyter.widget-view+json": {
       "model_id": "c57e13a1090e48a2a8775a7bd2022747",
       "version_minor": 0,
       "version_major": 2
      },
      "text/plain": [
       "HBox(children=(FloatProgress(value=0.0, description='Downloading', max=1113236958.0, style=ProgressStyle(descr…"
      ]
     },
     "metadata": {
      "tags": []
     }
    },
    {
     "output_type": "stream",
     "text": [
      "\n"
     ],
     "name": "stdout"
    },
    {
     "output_type": "stream",
     "text": [
      "Some weights of XLMRobertaModel were not initialized from the model checkpoint at cardiffnlp/twitter-xlm-roberta-base and are newly initialized: ['roberta.pooler.dense.weight', 'roberta.pooler.dense.bias']\n",
      "You should probably TRAIN this model on a down-stream task to be able to use it for predictions and inference.\n"
     ],
     "name": "stderr"
    }
   ]
  },
  {
   "cell_type": "markdown",
   "metadata": {
    "id": "KS0tpy2FBETm",
    "pycharm": {
     "name": "#%% md\n"
    }
   },
   "source": [
    "# Use Cases"
   ]
  },
  {
   "cell_type": "markdown",
   "metadata": {
    "id": "sNDGKawM-6ds",
    "pycharm": {
     "name": "#%% md\n"
    }
   },
   "source": [
    "## 1 - Compute Tweet Similarity"
   ]
  },
  {
   "cell_type": "code",
   "metadata": {
    "collapsed": true,
    "id": "9uXVOKuE6P_z",
    "pycharm": {
     "name": "#%%\n"
    }
   },
   "source": [
    "def preprocess(text):\n",
    "    new_text = []\n",
    "    for t in text.split(\" \"):\n",
    "        t = '@user' if t.startswith('@') and len(t) > 1 else t\n",
    "        t = 'http' if t.startswith('http') else t\n",
    "        new_text.append(t)\n",
    "    return \" \".join(new_text)\n",
    "\n",
    "def get_embedding(text):\n",
    "    text = preprocess(text)\n",
    "    encoded_input = tokenizer(text, return_tensors='pt')\n",
    "    features = model(**encoded_input)\n",
    "    features = features[0].detach().numpy() \n",
    "    features_mean = np.mean(features[0], axis=0) \n",
    "    return features_mean\n",
    "\n",
    "query = \"Acabo de pedir pollo frito 🐣\" #spanish"
   ],
   "execution_count": null,
   "outputs": []
  },
  {
   "cell_type": "code",
   "metadata": {
    "id": "gQh4qnTk3n2d",
    "pycharm": {
     "name": "#%%\n"
    }
   },
   "source": [
    "tweets = [\"We had a great time! ⚽️\", # english\n",
    "          \"We hebben een geweldige tijd gehad! ⛩\", # dutch\n",
    "          \"Nous avons passé un bon moment! 🎥\", # french\n",
    "          \"Ci siamo divertiti! 🍝\"] # italian\n",
    "\n",
    "d = defaultdict(int)\n",
    "for tweet in tweets:\n",
    "    sim = 1-cosine(get_embedding(query),get_embedding(tweet))\n",
    "    d[tweet] = sim"
   ],
   "execution_count": null,
   "outputs": []
  },
  {
   "cell_type": "code",
   "metadata": {
    "id": "FQ45UcRq6P_0",
    "colab": {
     "base_uri": "https://localhost:8080/"
    },
    "outputId": "c90cc827-0603-415d-c1fa-e611d5ef0bd7",
    "pycharm": {
     "name": "#%%\n"
    }
   },
   "source": [
    "print('Most similar to: ',query)\n",
    "print('----------------------------------------')\n",
    "for idx,x in enumerate(sorted(d.items(), key=lambda x:x[1], reverse=True)):\n",
    "  print(idx+1,x[0])"
   ],
   "execution_count": null,
   "outputs": [
    {
     "output_type": "stream",
     "text": [
      "Most similar to:  Acabo de pedir pollo frito 🐣\n",
      "----------------------------------------\n",
      "1 Ci siamo divertiti! 🍝\n",
      "2 Nous avons passé un bon moment! 🎥\n",
      "3 We had a great time! ⚽️\n",
      "4 We hebben een geweldige tijd gehad! ⛩\n"
     ],
     "name": "stdout"
    }
   ]
  },
  {
   "cell_type": "markdown",
   "metadata": {
    "id": "heJ80Jc_EEYs",
    "pycharm": {
     "name": "#%% md\n"
    }
   },
   "source": [
    "## 2 - Simple inference example (with `pipelines`)"
   ]
  },
  {
   "cell_type": "code",
   "metadata": {
    "id": "m6iCJwB2EBfZ",
    "colab": {
     "base_uri": "https://localhost:8080/",
     "height": 217,
     "referenced_widgets": [
      "7b0e6b18d9d64e51a94b3de7131383d6",
      "59060b53f5814c819d47d23068ed6426",
      "e680ab6e876f408a8c021afeb705e50e",
      "785c76120e7247a7bc8631f5cda202aa",
      "ec4fae95e05840e29f5f92db8def3f8f",
      "79106304236449f086e25b36f59a502c",
      "4204817e412b448fb30711530c8ddc2a",
      "98693bd2549d48a7a1a1ac7870ec9576",
      "9f79fec4a2be4b1cac766ea3943918dd",
      "3156df21bd4f4ad0a30b2887f95a6da7",
      "2551eb51d1ea41d88f0c018f59c6ba78",
      "284a659302724226863ea16d9fdd2120",
      "99b19f56f49142e888fa2a77b8fe9d73",
      "e12f7869adac4f749b4e2f8e11fecd61",
      "279f7e291d984da9a59db2148dd2ad78",
      "e591b3b3459e49a7af68f07ef76d1ad6",
      "ce0b32cb271147b58796b7a5aac51d41",
      "a7d7271d718e49acb5405e1e5f631c86",
      "9ff2c55cc9d54cab96bb5829b08c2509",
      "1181791706594b79ad414063587101f5",
      "e3b5a4be75524133929617cb9f3f694a",
      "c0e7153234894e629af410d360b4d5f7",
      "181af0c3d7314254b54b41eb2a0fafbe",
      "bd192fd62cd4458aa10c28f7f3613522",
      "3ccc2d38354448d4bc1aa5add0d3d160",
      "63ad21e6e21d41b7879a7b8c11609b58",
      "a97831c81a354b508ac81d8748f806c6",
      "2f2921b3a7244303af2a43dcb716b217",
      "c343fa04dc064abaa43d1a00dd843f0b",
      "08a2150d767545eb8a8de054ab41a9d7",
      "e44115de0700425da89ed30baa55da5a",
      "4a55078e71614e7cb7505f56b1b262f7"
     ]
    },
    "outputId": "ea776489-768b-44d0-b548-c7210c3d099d",
    "pycharm": {
     "name": "#%%\n"
    }
   },
   "source": [
    "model_path = \"cardiffnlp/twitter-xlm-roberta-base-sentiment\"\n",
    "sentiment_task = pipeline(\"sentiment-analysis\", model=model_path, tokenizer=model_path)"
   ],
   "execution_count": null,
   "outputs": [
    {
     "output_type": "display_data",
     "data": {
      "application/vnd.jupyter.widget-view+json": {
       "model_id": "7b0e6b18d9d64e51a94b3de7131383d6",
       "version_minor": 0,
       "version_major": 2
      },
      "text/plain": [
       "HBox(children=(FloatProgress(value=0.0, description='Downloading', max=841.0, style=ProgressStyle(description_…"
      ]
     },
     "metadata": {
      "tags": []
     }
    },
    {
     "output_type": "stream",
     "text": [
      "\n"
     ],
     "name": "stdout"
    },
    {
     "output_type": "display_data",
     "data": {
      "application/vnd.jupyter.widget-view+json": {
       "model_id": "9f79fec4a2be4b1cac766ea3943918dd",
       "version_minor": 0,
       "version_major": 2
      },
      "text/plain": [
       "HBox(children=(FloatProgress(value=0.0, description='Downloading', max=1112271561.0, style=ProgressStyle(descr…"
      ]
     },
     "metadata": {
      "tags": []
     }
    },
    {
     "output_type": "stream",
     "text": [
      "\n"
     ],
     "name": "stdout"
    },
    {
     "output_type": "display_data",
     "data": {
      "application/vnd.jupyter.widget-view+json": {
       "model_id": "ce0b32cb271147b58796b7a5aac51d41",
       "version_minor": 0,
       "version_major": 2
      },
      "text/plain": [
       "HBox(children=(FloatProgress(value=0.0, description='Downloading', max=5069051.0, style=ProgressStyle(descript…"
      ]
     },
     "metadata": {
      "tags": []
     }
    },
    {
     "output_type": "stream",
     "text": [
      "\n"
     ],
     "name": "stdout"
    },
    {
     "output_type": "display_data",
     "data": {
      "application/vnd.jupyter.widget-view+json": {
       "model_id": "3ccc2d38354448d4bc1aa5add0d3d160",
       "version_minor": 0,
       "version_major": 2
      },
      "text/plain": [
       "HBox(children=(FloatProgress(value=0.0, description='Downloading', max=150.0, style=ProgressStyle(description_…"
      ]
     },
     "metadata": {
      "tags": []
     }
    },
    {
     "output_type": "stream",
     "text": [
      "\n"
     ],
     "name": "stdout"
    }
   ]
  },
  {
   "cell_type": "code",
   "metadata": {
    "colab": {
     "base_uri": "https://localhost:8080/"
    },
    "id": "efVw7pYkE39C",
    "outputId": "4fb203f3-321d-4d82-9890-2dd832f130af",
    "pycharm": {
     "name": "#%%\n"
    }
   },
   "source": [
    "sentiment_task(\"Huggingface es lo mejor! Awesome library 🤗😎\")"
   ],
   "execution_count": null,
   "outputs": [
    {
     "output_type": "execute_result",
     "data": {
      "text/plain": [
       "[{'label': 'Positive', 'score': 0.9343640804290771}]"
      ]
     },
     "metadata": {
      "tags": []
     },
     "execution_count": 8
    }
   ]
  },
  {
   "cell_type": "markdown",
   "metadata": {
    "id": "iOFaYztUBIDZ",
    "pycharm": {
     "name": "#%% md\n"
    }
   },
   "source": [
    "# 3 - Experiment on UMSAB"
   ]
  },
  {
   "cell_type": "markdown",
   "metadata": {
    "id": "CTgvy8dh8JFL",
    "pycharm": {
     "name": "#%% md\n"
    }
   },
   "source": [
    "## Fetch dataset (Spanish)"
   ]
  },
  {
   "cell_type": "code",
   "metadata": {
    "colab": {
     "base_uri": "https://localhost:8080/"
    },
    "id": "pN2Vy0qB8K7M",
    "outputId": "64043717-31c9-400b-b9f8-5dc604b962c1",
    "pycharm": {
     "name": "#%%\n"
    }
   },
   "source": [
    "#language = 'spanish'\n",
    "language = 'german'\n",
    "\n",
    "files = \"\"\"test_labels.txt\n",
    "test_text.txt\n",
    "train_labels.txt\n",
    "train_text.txt\n",
    "val_labels.txt\n",
    "val_text.txt\"\"\".split('\\n')\n",
    "\n",
    "def fetch_data(language, files):\n",
    " dataset = defaultdict(list)\n",
    " for infile in files:\n",
    "   thisdata = infile.split('/')[-1].replace('.txt','')\n",
    "   dataset_url = f\"https://raw.githubusercontent.com/cardiffnlp/xlm-t/main/data/sentiment/{language}/{infile}\"\n",
    "   print(f'Fetching from {dataset_url}')\n",
    "   with urllib.request.urlopen(dataset_url) as f:\n",
    "     for line in f:\n",
    "       if thisdata.endswith('labels'):\n",
    "         dataset[thisdata].append(int(line.strip().decode('utf-8')))\n",
    "       else:\n",
    "         dataset[thisdata].append(line.strip().decode('utf-8'))\n",
    " return dataset     \n",
    "\n",
    "dataset = fetch_data(language, files)"
   ],
   "execution_count": 3,
   "outputs": [
    {
     "name": "stdout",
     "output_type": "stream",
     "text": [
      "Fetching from https://raw.githubusercontent.com/cardiffnlp/xlm-t/main/data/sentiment/german/test_labels.txt\n",
      "Fetching from https://raw.githubusercontent.com/cardiffnlp/xlm-t/main/data/sentiment/german/test_text.txt\n",
      "Fetching from https://raw.githubusercontent.com/cardiffnlp/xlm-t/main/data/sentiment/german/train_labels.txt\n",
      "Fetching from https://raw.githubusercontent.com/cardiffnlp/xlm-t/main/data/sentiment/german/train_text.txt\n",
      "Fetching from https://raw.githubusercontent.com/cardiffnlp/xlm-t/main/data/sentiment/german/val_labels.txt\n",
      "Fetching from https://raw.githubusercontent.com/cardiffnlp/xlm-t/main/data/sentiment/german/val_text.txt\n"
     ]
    }
   ]
  },
  {
   "cell_type": "code",
   "metadata": {
    "colab": {
     "base_uri": "https://localhost:8080/"
    },
    "id": "xAkzQJBz83kN",
    "outputId": "55c4d38b-2625-435e-e79c-9bf251038628",
    "pycharm": {
     "name": "#%%\n"
    }
   },
   "source": [
    "dataset['train_text'][:3],dataset['train_labels'][:3]"
   ],
   "execution_count": 4,
   "outputs": [
    {
     "data": {
      "text/plain": "(['Normal bin ich ja ned der mensch dwer sich beschwert wegen dem essen aber diese Pizza von Joeys...boah wie ekelhaft',\n  'VfB Stuttgart gegen SV Hamburg: Das Warten auf den nächsten Schritt - Stuttgarter Zeitung: DIE WELTVfB Stuttga... http',\n  '@user @user @user @user @user @user @user @user fühlt sich schon so spät an 😚😚😚'],\n [0, 1, 2])"
     },
     "execution_count": 4,
     "metadata": {},
     "output_type": "execute_result"
    }
   ]
  },
  {
   "cell_type": "code",
   "execution_count": null,
   "outputs": [],
   "source": [
    "# format data\n",
    "import pandas as pd\n",
    "\n",
    "sentiment_map = {\n",
    "    0: \"negative\",\n",
    "    1: \"neutral\",\n",
    "    2: \"positive\"\n",
    "}\n",
    "\n",
    "combined_train = [\n",
    "    {\n",
    "        \"text\": line[1][0],\n",
    "        \"original_label\": line[1][1],\n",
    "        \"ttlab_label\": line[1][1]-1,\n",
    "        \"split\": \"train\",\n",
    "        \"id\": line[0],\n",
    "        \"sentiment\": sentiment_map[line[1][1]]\n",
    "    }\n",
    "    for line\n",
    "    in enumerate(zip(dataset[\"train_text\"], dataset[\"train_labels\"]))\n",
    "]\n",
    "df_train = pd.DataFrame(combined_train)\n",
    "\n",
    "combined_val = [\n",
    "    {\n",
    "        \"text\": line[1][0],\n",
    "        \"original_label\": line[1][1],\n",
    "        \"ttlab_label\": line[1][1]-1,\n",
    "        \"split\": \"dev\",\n",
    "        \"id\": line[0],\n",
    "        \"sentiment\": sentiment_map[line[1][1]]\n",
    "    }\n",
    "    for line\n",
    "    in enumerate(zip(dataset[\"val_text\"], dataset[\"val_labels\"]))\n",
    "]\n",
    "df_val = pd.DataFrame(combined_val)\n",
    "\n",
    "combined_test = [\n",
    "    {\n",
    "        \"text\": line[1][0],\n",
    "        \"original_label\": line[1][1],\n",
    "        \"ttlab_label\": line[1][1]-1,\n",
    "        \"split\": \"test\",\n",
    "        \"id\": line[0],\n",
    "        \"sentiment\": sentiment_map[line[1][1]]\n",
    "    }\n",
    "    for line\n",
    "    in enumerate(zip(dataset[\"test_text\"], dataset[\"test_labels\"]))\n",
    "]\n",
    "df_test = pd.DataFrame(combined_test)\n",
    "\n",
    "df = pd.concat([df_train, df_val, df_test])\n",
    "df.set_index(\"id\", inplace=True)\n",
    "df[\"dataset\"] = f\"umsab/{language}\"\n",
    "df\n"
   ],
   "metadata": {
    "collapsed": false,
    "pycharm": {
     "name": "#%%\n",
     "is_executing": true
    }
   }
  },
  {
   "cell_type": "code",
   "execution_count": 1,
   "outputs": [],
   "source": [
    "# export to db\n",
    "import sqlite3\n",
    "\n",
    "db_dir = \"/home/daniel/data/uni/masterarbeit-sentiment/data/datasets/experiments/de/3sentiment\"\n",
    "db_file = f\"{db_dir}/datasets.db\"\n",
    "\n",
    "#con = sqlite3.connect(db_file)\n",
    "#df.to_sql(\"dataset\", con=con, index=True, index_label=\"id\", if_exists='append')\n",
    "#con.close()"
   ],
   "metadata": {
    "collapsed": false,
    "pycharm": {
     "name": "#%%\n"
    }
   }
  },
  {
   "cell_type": "code",
   "execution_count": null,
   "outputs": [],
   "source": [
    "# Get combined dataset\n",
    "import pandas as pd\n",
    "\n",
    "con = sqlite3.connect(db_file)\n",
    "df_combined = pd.read_sql(\"SELECT * FROM dataset\", con=con)\n",
    "con.close()\n",
    "\n",
    "df_combined"
   ],
   "metadata": {
    "collapsed": false,
    "pycharm": {
     "name": "#%%\n",
     "is_executing": true
    }
   }
  },
  {
   "cell_type": "code",
   "execution_count": 3,
   "outputs": [
    {
     "data": {
      "text/plain": "  0%|          | 0/1349689 [00:00<?, ?ex/s]",
      "application/vnd.jupyter.widget-view+json": {
       "version_major": 2,
       "version_minor": 0,
       "model_id": "1a7a3c6f2d244bbd97b70318fdb4fa73"
      },
      "application/json": {
       "n": 0,
       "total": 1349689,
       "elapsed": 0.050209760665893555,
       "ncols": null,
       "nrows": null,
       "prefix": "",
       "ascii": false,
       "unit": "ex",
       "unit_scale": false,
       "rate": null,
       "bar_format": null,
       "postfix": null,
       "unit_divisor": 1000,
       "initial": 0,
       "colour": null
      }
     },
     "metadata": {},
     "output_type": "display_data"
    },
    {
     "data": {
      "text/plain": "  0%|          | 0/169973 [00:00<?, ?ex/s]",
      "application/vnd.jupyter.widget-view+json": {
       "version_major": 2,
       "version_minor": 0,
       "model_id": "427f67ac56c0476cbae6cefb9314b7b3"
      },
      "application/json": {
       "n": 0,
       "total": 169973,
       "elapsed": 0.007440328598022461,
       "ncols": null,
       "nrows": null,
       "prefix": "",
       "ascii": false,
       "unit": "ex",
       "unit_scale": false,
       "rate": null,
       "bar_format": null,
       "postfix": null,
       "unit_divisor": 1000,
       "initial": 0,
       "colour": null
      }
     },
     "metadata": {},
     "output_type": "display_data"
    },
    {
     "data": {
      "text/plain": "  0%|          | 0/333571 [00:00<?, ?ex/s]",
      "application/vnd.jupyter.widget-view+json": {
       "version_major": 2,
       "version_minor": 0,
       "model_id": "ef3df0091ff24dd0902c2baa59720d57"
      },
      "application/json": {
       "n": 0,
       "total": 333571,
       "elapsed": 0.007550954818725586,
       "ncols": null,
       "nrows": null,
       "prefix": "",
       "ascii": false,
       "unit": "ex",
       "unit_scale": false,
       "rate": null,
       "bar_format": null,
       "postfix": null,
       "unit_divisor": 1000,
       "initial": 0,
       "colour": null
      }
     },
     "metadata": {},
     "output_type": "display_data"
    },
    {
     "data": {
      "text/plain": "DatasetDict({\n    train: Dataset({\n        features: ['id', 'text', 'dataset', 'labels'],\n        num_rows: 1349689\n    })\n    test: Dataset({\n        features: ['id', 'text', 'dataset', 'labels'],\n        num_rows: 169973\n    })\n    validation: Dataset({\n        features: ['id', 'text', 'dataset', 'labels'],\n        num_rows: 333571\n    })\n})"
     },
     "execution_count": 3,
     "metadata": {},
     "output_type": "execute_result"
    }
   ],
   "source": [
    "# Preprocess and export combined dataset\n",
    "from datasets import Dataset, DatasetDict, Split\n",
    "\n",
    "dataset_combined = DatasetDict()\n",
    "\n",
    "dataset_combined[\"train\"] = Dataset.from_pandas(\n",
    "    df_combined[df_combined[\"split\"] == \"train\"],\n",
    "    split=Split.TRAIN\n",
    ")\n",
    "dataset_combined[\"test\"] = Dataset.from_pandas(\n",
    "    df_combined[df_combined[\"split\"] == \"test\"],\n",
    "    split=Split.TEST\n",
    ")\n",
    "dataset_combined[\"validation\"] = Dataset.from_pandas(\n",
    "    df_combined[df_combined[\"split\"] == \"dev\"],\n",
    "    split=Split.VALIDATION\n",
    ")\n",
    "\n",
    "def preprocess_combined(sample):\n",
    "    # text preprocessing\n",
    "    new_text = []\n",
    "    for t in sample[\"text\"].split(\" \"):\n",
    "        t = '@user' if t.startswith('@') and len(t) > 1 else t\n",
    "        t = 'http' if t.startswith('http') else t\n",
    "        new_text.append(t)\n",
    "    sample[\"text\"] = \" \".join(new_text)\n",
    "\n",
    "    # convert to ttlab labels\n",
    "    # 0 <- -1   negative\n",
    "    # 1 <-  0    neutral\n",
    "    # 2 <- +1    positive\n",
    "    sample[\"labels\"] = sample[\"ttlab_label\"] + 1\n",
    "    return sample\n",
    "\n",
    "dataset_combined = dataset_combined.map(preprocess_combined)\n",
    "\n",
    "dataset_combined = dataset_combined.remove_columns(['original_label', 'ttlab_label', 'sentiment', 'split', '__index_level_0__'])\n",
    "\n",
    "dataset_combined"
   ],
   "metadata": {
    "collapsed": false,
    "pycharm": {
     "name": "#%%\n"
    }
   }
  },
  {
   "cell_type": "code",
   "execution_count": null,
   "outputs": [],
   "source": [
    "dataset_combined[\"train\"][1500]"
   ],
   "metadata": {
    "collapsed": false,
    "pycharm": {
     "name": "#%%\n",
     "is_executing": true
    }
   }
  },
  {
   "cell_type": "code",
   "execution_count": 9,
   "outputs": [
    {
     "data": {
      "text/plain": "'/home/daniel/data/uni/masterarbeit-sentiment/data/datasets/experiments/de/3sentiment/cardiffnlp'"
     },
     "execution_count": 9,
     "metadata": {},
     "output_type": "execute_result"
    }
   ],
   "source": [
    "combined_dataset_name = \"cardiffnlp\"\n",
    "combined_dataset_path = f\"/home/daniel/data/uni/masterarbeit-sentiment/data/datasets/experiments/de/3sentiment/{combined_dataset_name}\"\n",
    "combined_dataset_path"
   ],
   "metadata": {
    "collapsed": false,
    "pycharm": {
     "name": "#%%\n"
    }
   }
  },
  {
   "cell_type": "code",
   "execution_count": 10,
   "outputs": [],
   "source": [
    "# save preprocessed dataset\n",
    "dataset_combined.save_to_disk(combined_dataset_path)"
   ],
   "metadata": {
    "collapsed": false,
    "pycharm": {
     "name": "#%%\n"
    }
   }
  },
  {
   "cell_type": "markdown",
   "metadata": {
    "id": "1IRg7RnGF9Me",
    "pycharm": {
     "name": "#%% md\n"
    }
   },
   "source": [
    "## Run full experiment"
   ]
  },
  {
   "cell_type": "code",
   "metadata": {
    "id": "y11tfLcrF_nu",
    "pycharm": {
     "name": "#%%\n"
    }
   },
   "source": [
    "# load multilingual sentiment classifier\n",
    "CUDA = True # set to true if using GPU (Runtime -> Change runtime Type -> GPU)\n",
    "BATCH_SIZE = 32\n",
    "MODEL = \"cardiffnlp/twitter-xlm-roberta-base-sentiment\"\n",
    "tokenizer = AutoTokenizer.from_pretrained(MODEL)\n",
    "config = AutoConfig.from_pretrained(MODEL)\n",
    "model = AutoModelForSequenceClassification.from_pretrained(MODEL)\n",
    "if CUDA:\n",
    "  model = model.to('cuda')"
   ],
   "execution_count": null,
   "outputs": []
  },
  {
   "cell_type": "code",
   "metadata": {
    "id": "KV9DAkkwIez9",
    "pycharm": {
     "name": "#%%\n"
    }
   },
   "source": [
    "# helper functions\n",
    "def preprocess(corpus):\n",
    "  outcorpus = []\n",
    "  for text in corpus:\n",
    "    new_text = []\n",
    "    for t in text.split(\" \"):\n",
    "        t = '@user' if t.startswith('@') and len(t) > 1 else t\n",
    "        t = 'http' if t.startswith('http') else t\n",
    "        new_text.append(t)\n",
    "    new_text = \" \".join(new_text)\n",
    "    outcorpus.append(new_text)\n",
    "  return outcorpus\n",
    "\n",
    "def predict(text, cuda):\n",
    "  text = preprocess(text)\n",
    "  encoded_input = tokenizer(text, return_tensors='pt', padding = True, truncation = True)\n",
    "  if cuda:\n",
    "    encoded_input.to('cuda')\n",
    "    output = model(**encoded_input)\n",
    "    scores = output[0].detach().cpu().numpy()\n",
    "  else:\n",
    "    output = model(**encoded_input)\n",
    "    scores = output[0].detach().numpy()\n",
    "  \n",
    "  scores = softmax(scores, axis=-1)\n",
    "  return scores"
   ],
   "execution_count": null,
   "outputs": []
  },
  {
   "cell_type": "code",
   "metadata": {
    "colab": {
     "base_uri": "https://localhost:8080/"
    },
    "id": "d_o7MTs4OPwS",
    "outputId": "50cd4b06-b053-4727-b310-654e1e4bd16e",
    "pycharm": {
     "name": "#%%\n"
    }
   },
   "source": [
    "from torch.utils.data import DataLoader\n",
    "dl = DataLoader(dataset['test_text'], batch_size=BATCH_SIZE)\n",
    "all_preds = []\n",
    "for idx,batch in enumerate(dl):\n",
    "  if idx % 10 == 0:\n",
    "    print('Batch ',idx+1,' of ',len(dl))\n",
    "  text = preprocess(batch)\n",
    "  scores = predict(text, CUDA)\n",
    "  preds = np.argmax(scores, axis=-1)\n",
    "  all_preds.extend(preds)"
   ],
   "execution_count": null,
   "outputs": [
    {
     "output_type": "stream",
     "text": [
      "Asking to truncate to max_length but no maximum length is provided and the model has no predefined maximum length. Default to no truncation.\n"
     ],
     "name": "stderr"
    },
    {
     "output_type": "stream",
     "text": [
      "Batch  1  of  28\n",
      "Batch  11  of  28\n",
      "Batch  21  of  28\n"
     ],
     "name": "stdout"
    }
   ]
  },
  {
   "cell_type": "code",
   "metadata": {
    "colab": {
     "base_uri": "https://localhost:8080/"
    },
    "id": "ogWrPLWKPIG6",
    "outputId": "6909c1ce-bfa4-4400-9228-25acc3a49189",
    "pycharm": {
     "name": "#%%\n"
    }
   },
   "source": [
    "print(classification_report(dataset['test_labels'], all_preds))"
   ],
   "execution_count": null,
   "outputs": [
    {
     "output_type": "stream",
     "text": [
      "              precision    recall  f1-score   support\n",
      "\n",
      "           0       0.70      0.80      0.75       290\n",
      "           1       0.62      0.55      0.58       290\n",
      "           2       0.75      0.74      0.75       290\n",
      "\n",
      "    accuracy                           0.70       870\n",
      "   macro avg       0.69      0.70      0.69       870\n",
      "weighted avg       0.69      0.70      0.69       870\n",
      "\n"
     ],
     "name": "stdout"
    }
   ]
  },
  {
   "cell_type": "code",
   "metadata": {
    "id": "v0bWMH-l4xa4",
    "pycharm": {
     "name": "#%%\n"
    }
   },
   "source": [],
   "execution_count": null,
   "outputs": []
  }
 ]
}